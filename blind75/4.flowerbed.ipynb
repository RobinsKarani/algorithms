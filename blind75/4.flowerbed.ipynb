{
 "cells": [
  {
   "cell_type": "markdown",
   "id": "e2cd1410-7307-4214-99ea-834fa0fc13ac",
   "metadata": {},
   "source": [
    "# Can Place Flowers\n",
    "\n",
    "##  You're given:\n",
    "\n",
    "- An array called `flowerbed` that contains `0`s and `1`s.\n",
    "  - `0` means the plot is **empty**.\n",
    "  - `1` means the plot already has a **flower**.\n",
    "- An integer `n`, representing how many **new flowers** you want to plant.\n",
    "\n",
    "---\n",
    "\n",
    "## ⚠️ Rule:\n",
    "\n",
    "You **cannot** plant a flower in a plot if either of its **neighbors** (left or right) also has a flower.\n",
    "\n",
    "> In other words, **flowers must not be planted in adjacent plots**.\n",
    "\n",
    "---\n",
    "\n",
    "##  Your Goal\n",
    "\n",
    "Return `True` if you can plant `n` new flowers **without breaking the rule**. Otherwise, return `False`.\n",
    "\n",
    "---\n",
    "\n",
    "##  Key Points\n",
    "\n",
    "You can only plant in a `0` if:\n",
    "- The plot to the **left** is either also `0` or it's the **beginning** of the array.\n",
    "- The plot to the **right** is either also `0` or it's the **end** of the array.\n",
    "\n",
    "---\n",
    "\n",
    "## Examples\n",
    "\n",
    "###  Example 1\n",
    "\n",
    "```python\n",
    "flowerbed = [1, 0, 0, 0, 1]\n",
    "n = 1\n",
    "```\n",
    "\n",
    "You can plant 1 flower at index 2:\n",
    "\n",
    "```text\n",
    "[1, 0, 1, 0, 1]\n",
    "```"
   ]
  },
  {
   "cell_type": "code",
   "execution_count": 16,
   "id": "565e7e8d-7f69-49b1-bb6c-0a5bffeedc55",
   "metadata": {},
   "outputs": [
    {
     "data": {
      "text/plain": [
       "False"
      ]
     },
     "execution_count": 16,
     "metadata": {},
     "output_type": "execute_result"
    }
   ],
   "source": [
    "def placeflowers(flowerbed,n):\n",
    "    count = 0 #THis will track how many plant we'll plant\n",
    "    length = len(flowerbed)\n",
    "\n",
    "    for i in range(length):\n",
    "        # Check if your current plot is empty\n",
    "        if flowerbed[i] == 0:\n",
    "            #Check left and right neighbours\n",
    "            empty_left = (i == 0) or (flowerbed[i-1] == 0 )\n",
    "            empty_right = (flowerbed[i+1] == 0) or  (i == length -1)\n",
    "\n",
    "            #if both sides are empty, we can plant here\n",
    "            if empty_left and empty_right:\n",
    "                flowerbed[i] = 1 #Plant a flower here\n",
    "                count += 1 #Increase the planted floer count by 1\n",
    "\n",
    "                if count >= n: # No need to check more, goal reached\n",
    "                    return True\n",
    "    \n",
    "    # After checking all plots, return result                \n",
    "    return count >= n    \n",
    "placeflowers([1,0,0,0,0,0,0,1],3)        \n",
    "            "
   ]
  },
  {
   "cell_type": "code",
   "execution_count": null,
   "id": "a83b22d6-9ae8-47a0-be62-ce5dfd1a8dc3",
   "metadata": {},
   "outputs": [],
   "source": []
  }
 ],
 "metadata": {
  "kernelspec": {
   "display_name": "Python 3 (ipykernel)",
   "language": "python",
   "name": "python3"
  },
  "language_info": {
   "codemirror_mode": {
    "name": "ipython",
    "version": 3
   },
   "file_extension": ".py",
   "mimetype": "text/x-python",
   "name": "python",
   "nbconvert_exporter": "python",
   "pygments_lexer": "ipython3",
   "version": "3.13.2"
  }
 },
 "nbformat": 4,
 "nbformat_minor": 5
}
