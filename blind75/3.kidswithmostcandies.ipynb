{
 "cells": [
  {
   "cell_type": "markdown",
   "id": "b9094cd7-a223-4a0f-b7f6-6a3b05bca0eb",
   "metadata": {},
   "source": [
    "# Kids With the Greatest Number of Candies\n",
    "\n",
    "There are `n` kids with candies. You are given an integer array `candies`, where each `candies[i]` represents the number of candies the **i-th** kid has, and an integer `extraCandies`, denoting the number of extra candies that you have.\n",
    "\n",
    "## Task\n",
    "\n",
    "Return a **boolean array** `result` of length `n`, where:\n",
    "\n",
    "- `result[i]` is `true` if, after giving the **i-th** kid **all** the `extraCandies`, they will have the **greatest number of candies** among all the kids.\n",
    "- Otherwise, return `false`.\n",
    "\n",
    "> **Note:** Multiple kids can have the greatest number of candies."
   ]
  },
  {
   "cell_type": "code",
   "execution_count": 5,
   "id": "7831386f-fc61-4fdf-870a-e8177458afc4",
   "metadata": {},
   "outputs": [],
   "source": [
    "def kidsWithCandies(candies, extraCandies):\n",
    "    # Step 1: Find the current maximum number of candies any kid has\n",
    "    kidwithmaxcandies = max(candies)\n",
    "    # Example: if candies = [2, 3, 5, 1, 3], then kidwithmaxcandies = 5\n",
    "\n",
    "    # Step 2: Create an empty list to store the result (True or False for each kid)\n",
    "    result = []\n",
    "\n",
    "    # Step 3: Go through each kid's candies using a loop\n",
    "    for individualcandies in candies:\n",
    "        # Step 4: Add extraCandies to this kid's candies\n",
    "        # Check if this total is greater than or equal to the current maximum\n",
    "        has_max = (individualcandies + extraCandies >= kidwithmaxcandies) #will return True of False\n",
    "\n",
    "        # Step 5: Add the result (True or False) to the result list\n",
    "        result.append(has_max)\n",
    "\n",
    "    # Step 6: Return the final list of results\n",
    "    return result\n"
   ]
  },
  {
   "cell_type": "code",
   "execution_count": 6,
   "id": "08fbd099-db00-4356-b42e-f0749785776e",
   "metadata": {},
   "outputs": [
    {
     "name": "stdout",
     "output_type": "stream",
     "text": [
      "[True, True, True, False, True]\n"
     ]
    }
   ],
   "source": [
    "#Test\n",
    "candies = [2, 3, 5, 1, 3]\n",
    "extraCandies = 3\n",
    "\n",
    "print(kidsWithCandies(candies, extraCandies))\n"
   ]
  },
  {
   "cell_type": "markdown",
   "id": "0c42b1e3-57ef-475c-9a39-4e5facbcb983",
   "metadata": {},
   "source": [
    "#### simplest leetcode?"
   ]
  },
  {
   "cell_type": "code",
   "execution_count": null,
   "id": "661de89a-ff26-4942-99c4-227233638fd6",
   "metadata": {},
   "outputs": [],
   "source": []
  }
 ],
 "metadata": {
  "kernelspec": {
   "display_name": "Python 3 (ipykernel)",
   "language": "python",
   "name": "python3"
  },
  "language_info": {
   "codemirror_mode": {
    "name": "ipython",
    "version": 3
   },
   "file_extension": ".py",
   "mimetype": "text/x-python",
   "name": "python",
   "nbconvert_exporter": "python",
   "pygments_lexer": "ipython3",
   "version": "3.13.2"
  }
 },
 "nbformat": 4,
 "nbformat_minor": 5
}
