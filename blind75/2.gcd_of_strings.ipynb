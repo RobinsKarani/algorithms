{
 "cells": [
  {
   "cell_type": "markdown",
   "id": "78ef2d06-e8d3-49cb-8c69-efa91d771464",
   "metadata": {},
   "source": [
    "## Problem: Greatest Common Divisor of Strings\n",
    "\n",
    "For two strings `str1` and `str2`, we say `\"t divides s\"` if and only if: s = t + t + t + ... + t (i.e., repeated one or more times)\n",
    "\n",
    "Return the **largest string `x`** such that `x` divides **both** `str1` and `str2`.\n",
    "\n",
    "###  Examples:\n",
    "\n",
    "**Example 1**  \n",
    "Input: `str1 = \"ABCABC\"`, `str2 = \"ABC\"`  \n",
    "Output: `\"ABC\"`\n",
    "\n",
    "**Example 2**  \n",
    "Input: `str1 = \"ABABAB\"`, `str2 = \"ABAB\"`  \n",
    "Output: `\"AB\"`\n",
    "\n",
    "**Example 3**  \n",
    "Input: `str1 = \"LEET\"`, `str2 = \"CODE\"`  \n",
    "Output: `\"\"`\n",
    "\n"
   ]
  },
  {
   "cell_type": "code",
   "execution_count": 9,
   "id": "16ba8ad1-9d26-42f4-afed-cb885a44900c",
   "metadata": {},
   "outputs": [
    {
     "name": "stdout",
     "output_type": "stream",
     "text": [
      "AB\n"
     ]
    }
   ],
   "source": [
    "def gcdOfStrings(str1: str, str2: str) -> str:\n",
    "    #Check if str1 and str2 can be formed by repeating the same string\n",
    "    #if concatenating str1 + str2 is not equal to str2 + str1, they don't share a common divisor string\n",
    "    if str1 + str2 != str2 + str1:\n",
    "        return \"They dot share a common divisor\"\n",
    "    \n",
    "    #Import math module to use the gcd function\n",
    "    import math\n",
    "    #Compute the GCD of the lengths of str1 and str2\n",
    "    #This gives the length of the largest possible common divisor string\n",
    "    max_size = math.gcd(len(str1), len(str2))\n",
    "    \n",
    "    #Return the substring of str1 from index 0 to max_size\n",
    "    #This substring is the candidate for the greatest common divisor string\n",
    "    return str1[:max_size]\n",
    "\n",
    "#Test the function with example \n",
    "print(gcdOfStrings(\"AB\",\"ABABABAB\"))"
   ]
  },
  {
   "cell_type": "raw",
   "id": "150876ff-0976-48dd-a8bb-13e57bbddeb9",
   "metadata": {},
   "source": [
    "Let’s say:\n",
    "\n",
    "str1 = \"AB\"\n",
    "\n",
    "str2 = \"ABABABAB\"\n",
    "\n",
    "We want to find the longest string that:\n",
    "\n",
    "Can be repeated to form str1\n",
    "\n",
    "Can also be repeated to form str2"
   ]
  },
  {
   "cell_type": "raw",
   "id": "7fc7f413-844d-4a94-9133-d9c7476ca5e3",
   "metadata": {},
   "source": [
    "why use length?\n",
    "If both strings are made by repeating a common pattern, the length of that smallest pattern must divide both lengths.\n",
    "\n",
    "len(str1) = 2\n",
    "\n",
    "len(str2) = 8\n",
    "\n",
    "gcd(2, 8) = 2\n",
    "\n",
    "So, the common repeating unit, if it exists, must be of length 2"
   ]
  },
  {
   "cell_type": "markdown",
   "id": "8c876a60-6cd8-4428-b302-c699f1c7c764",
   "metadata": {},
   "source": [
    "## REVERSE"
   ]
  },
  {
   "cell_type": "code",
   "execution_count": 10,
   "id": "9fa073ab-c075-4b39-8859-077f7cb09c0d",
   "metadata": {},
   "outputs": [],
   "source": [
    "# Assume I'm given the GCD string and the original strings' lengths. Now reconstruct the original strings by repeating the GCD.\n",
    "\n",
    "def reconstruct_from_gcd(gcd_str: str, str1_len: int, str2_len: int):\n",
    "    # Check if str1_len and str2_len are divisible by gcd length\n",
    "    if str1_len % len(gcd_str) != 0 or str2_len % len(gcd_str) != 0:\n",
    "        return \"Invalid: GCD string length doesn't divide original lengths\"\n",
    "\n",
    "    str1 = gcd_str * (str1_len // len(gcd_str)) #eg. str1 = AB * (8//2) ABABABAB “How many times do we need to repeat \"AB\" to get a string of length 8?”\n",
    "    str2 = gcd_str * (str2_len // len(gcd_str))\n",
    "    return str1, str2"
   ]
  },
  {
   "cell_type": "code",
   "execution_count": 11,
   "id": "5abaf7de-d153-496d-af94-7029ff31920e",
   "metadata": {},
   "outputs": [
    {
     "name": "stdout",
     "output_type": "stream",
     "text": [
      "str1: AB\n",
      "str2: ABABABAB\n"
     ]
    }
   ],
   "source": [
    "#example\n",
    "gcd_str = \"AB\"\n",
    "str1_len = 2\n",
    "str2_len = 8\n",
    "\n",
    "str1, str2 = reconstruct_from_gcd(gcd_str, str1_len, str2_len)\n",
    "print(\"str1:\", str1)  # → AB\n",
    "print(\"str2:\", str2)  # → ABABABAB\n"
   ]
  },
  {
   "cell_type": "code",
   "execution_count": null,
   "id": "6861a251-2390-41a4-8b72-724376f123d1",
   "metadata": {},
   "outputs": [],
   "source": [
    "#try brute frce approach later.It's not optimal tho"
   ]
  }
 ],
 "metadata": {
  "kernelspec": {
   "display_name": "Python 3 (ipykernel)",
   "language": "python",
   "name": "python3"
  },
  "language_info": {
   "codemirror_mode": {
    "name": "ipython",
    "version": 3
   },
   "file_extension": ".py",
   "mimetype": "text/x-python",
   "name": "python",
   "nbconvert_exporter": "python",
   "pygments_lexer": "ipython3",
   "version": "3.13.2"
  }
 },
 "nbformat": 4,
 "nbformat_minor": 5
}
