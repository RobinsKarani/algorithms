{
 "cells": [
  {
   "cell_type": "markdown",
   "id": "edb327df-e6ee-49ff-b948-fa766948a4d2",
   "metadata": {},
   "source": [
    "# 6/75 - Reverse Words in a String\n",
    "\n",
    "## Problem Statement\n",
    "\n",
    "Given an input string `s`, reverse the order of the words.\n",
    "\n",
    "A word is defined as a sequence of non-space characters. The words in `s` will be separated by at least one space.\n",
    "\n",
    "Return a string of the words in reverse order concatenated by a single space.\n",
    "\n",
    "## Important Notes\n",
    "\n",
    "- `s` may contain leading or trailing spaces or multiple spaces between two words\n",
    "- The returned string should only have a single space separating the words\n",
    "- Do not include any extra spaces\n",
    "\n",
    "## Example\n",
    "\n",
    "**Input:** `\"  hello   world  \"`  \n",
    "**Output:** `\"world hello\"`"
   ]
  },
  {
   "cell_type": "code",
   "execution_count": 1,
   "id": "f941dca2-5e2f-461e-83ce-5c3c84693d5a",
   "metadata": {},
   "outputs": [],
   "source": [
    "def reverse_words(s):\n",
    "    #Split the string by whitespace\n",
    "    words = s.split()\n",
    "\n",
    "    #Reverse the list of words\n",
    "    reversed_words = words[::-1]\n",
    "\n",
    "    #Join the reversed list with single spaces\n",
    "    return ' '.join(reversed_words)  #ensure double space in \" \"\n",
    "reverse"
   ]
  },
  {
   "cell_type": "code",
   "execution_count": null,
   "id": "0c79f1f9-3298-4aa0-9bd5-81f5330649d3",
   "metadata": {},
   "outputs": [],
   "source": []
  }
 ],
 "metadata": {
  "kernelspec": {
   "display_name": "Python 3 (ipykernel)",
   "language": "python",
   "name": "python3"
  },
  "language_info": {
   "codemirror_mode": {
    "name": "ipython",
    "version": 3
   },
   "file_extension": ".py",
   "mimetype": "text/x-python",
   "name": "python",
   "nbconvert_exporter": "python",
   "pygments_lexer": "ipython3",
   "version": "3.13.2"
  }
 },
 "nbformat": 4,
 "nbformat_minor": 5
}
