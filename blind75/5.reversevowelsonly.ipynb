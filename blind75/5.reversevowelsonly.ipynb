{
 "cells": [
  {
   "cell_type": "markdown",
   "id": "61f0b054-e08c-4b33-90f5-e1f5aaf6408c",
   "metadata": {},
   "source": [
    "#  Reverse Vowels of a String\n",
    "\n",
    "**Difficulty:** Easy  \n",
    "**Topics:** Strings, Two Pointers  \n",
    "\n",
    "\n",
    "---\n",
    "\n",
    "## 📝 Problem Statement\n",
    "\n",
    "Given a string `s`, reverse **only all the vowels** in the string and return it.\n",
    "\n",
    "The vowels are `'a'`, `'e'`, `'i'`, `'o'`, and `'u'`, and they can appear in **both lowercase and uppercase**, possibly more than once.\n",
    "\n",
    "---\n",
    "\n",
    "## 💡 Example 1\n",
    "\n",
    "**Input:**\n",
    "```text\n",
    "s = \"IceCreAm\"\n",
    "```\n",
    "**Output:**\n",
    "```text    \n",
    "\"AceCreIm\"\n",
    "```\n",
    "\n",
    "## Constraints\n",
    "\n",
    "```text \n",
    "1 <= s.length <= 3 * 10^5\n",
    "\n",
    "s consists of printable ASCII characters \n",
    "```\n",
    "\n"
   ]
  },
  {
   "cell_type": "code",
   "execution_count": 5,
   "id": "2a6d3e86-1223-4f30-8966-b850d707fb6c",
   "metadata": {},
   "outputs": [
    {
     "name": "stdout",
     "output_type": "stream",
     "text": [
      "hollo werld\n"
     ]
    }
   ],
   "source": [
    "s = 'hello world' \n",
    "#expexted output--> hollo werld\n",
    "vowels = \"aeiouAEIOU\"\n",
    "\n",
    "#change string to lsit coz strings cant be changed\n",
    "slist = list(s)\n",
    "\n",
    "#use two fingers(pointers)\n",
    "left = 0\n",
    "right =  len(slist) - 1\n",
    "\n",
    "#start walking the fingers/pointers inward \n",
    "while left < right:\n",
    "    #if the left finger is not pinting a vowel move it one step to the right\n",
    "    if slist[left] not in vowels:\n",
    "        left += 1\n",
    "    elif slist[right] not in vowels:\n",
    "        right -= 1\n",
    "    else:\n",
    "        #if both fingers are vowels swap them\n",
    "        slist[left], slist[right] = slist[right], slist[left]\n",
    "        #move fingers closer\n",
    "        left += 1\n",
    "        right -= 1\n",
    "results = \"\".join(slist)      \n",
    "print(results)\n",
    "        "
   ]
  },
  {
   "cell_type": "code",
   "execution_count": null,
   "id": "fbbf7f5a-a533-4314-846d-ef34240cbd79",
   "metadata": {},
   "outputs": [],
   "source": []
  },
  {
   "cell_type": "code",
   "execution_count": null,
   "id": "dcd1ea11-322b-41cf-b5b4-49c3c5ad6ff4",
   "metadata": {},
   "outputs": [],
   "source": []
  }
 ],
 "metadata": {
  "kernelspec": {
   "display_name": "Python 3 (ipykernel)",
   "language": "python",
   "name": "python3"
  },
  "language_info": {
   "codemirror_mode": {
    "name": "ipython",
    "version": 3
   },
   "file_extension": ".py",
   "mimetype": "text/x-python",
   "name": "python",
   "nbconvert_exporter": "python",
   "pygments_lexer": "ipython3",
   "version": "3.13.2"
  }
 },
 "nbformat": 4,
 "nbformat_minor": 5
}
