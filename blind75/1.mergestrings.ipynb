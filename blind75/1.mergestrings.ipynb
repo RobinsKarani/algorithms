{
 "cells": [
  {
   "cell_type": "markdown",
   "id": "c736008a-752f-448a-9c05-d53b6d5dda58",
   "metadata": {},
   "source": [
    "## Problem\n",
    "\n",
    "You are given two strings `word1` and `word2`.  \n",
    "Merge the strings by adding letters in alternating order, starting with `word1`.  \n",
    "If a string is longer than the other, append the additional letters onto the end of the merged string.\n",
    "\n",
    "Return the merged string.\n",
    "\n",
    "---\n",
    "\n",
    "### Example 1:\n",
    "\n",
    "**Input:**  \n",
    "`word1 = \"abc\"`  \n",
    "`word2 = \"pqr\"`\n",
    "\n",
    "**Output:**  \n",
    "`\"apbqcr\"`\n",
    "\n",
    "**Explanation:**  \n",
    "The merged string will be merged as so:\n",
    "\n",
    "word1: a b c\n",
    "word2: p q r\n",
    "merged: a p b q c r\n",
    "\n"
   ]
  },
  {
   "cell_type": "code",
   "execution_count": null,
   "id": "495342df-6a87-4801-b84c-00a7383e075a",
   "metadata": {},
   "outputs": [],
   "source": []
  },
  {
   "cell_type": "code",
   "execution_count": 3,
   "id": "03675bb5-e974-4f9f-a4cb-6d0c7bbd6aa8",
   "metadata": {},
   "outputs": [
    {
     "data": {
      "text/plain": [
       "'ADBECFG'"
      ]
     },
     "execution_count": 3,
     "metadata": {},
     "output_type": "execute_result"
    }
   ],
   "source": [
    "def mergeAlternately(word1: str, word2: str) -> str:\n",
    "    # Initialize pointers for word1 and word2 to track current positions\n",
    "    i, j = 0, 0\n",
    "    # List to store characters in alternating order (mutable for efficient appending)\n",
    "    merged = []\n",
    "\n",
    "    # Continue until all characters from both strings are processed\n",
    "    while i < len(word1) or j < len(word2):\n",
    "        # If there are remaining characters in word1, append the next one\n",
    "        if i < len(word1):\n",
    "            merged.append(word1[i])\n",
    "            i += 1\n",
    "        # If there are remaining characters in word2, append the next one\n",
    "        if j < len(word2):\n",
    "            merged.append(word2[j])\n",
    "            j += 1\n",
    "\n",
    "    # Join the list of characters into a single string and return\n",
    "    return \"\".join(merged)\n",
    "\n",
    "mergeAlternately(\"ABC\",\"DEFG\")\n",
    "    "
   ]
  },
  {
   "cell_type": "code",
   "execution_count": 5,
   "id": "0c561ce2-26c0-454d-8d2c-2e2ed4af19e0",
   "metadata": {},
   "outputs": [
    {
     "data": {
      "text/plain": [
       "'ADBECFG'"
      ]
     },
     "execution_count": 5,
     "metadata": {},
     "output_type": "execute_result"
    }
   ],
   "source": [
    "def merge_alternately(word1, word2):\n",
    "    merged = []\n",
    "    maxlen = max(len(word1),len(word2))\n",
    "\n",
    "    for i in range(maxlen):\n",
    "\n",
    "        if i < len(word1):       #This checks: \"Does word1 have a character at this index?\" If yes, it adds that character to merged. This prevents index errors if one word is shorter than the other.\n",
    "            merged.append(word1[i])\n",
    "        if i < len (word2):\n",
    "            merged.append(word2[i])\n",
    "\n",
    "    return \"\".join(merged)\n",
    "                 \n",
    "merge_alternately(\"ABC\",\"DEFG\")"
   ]
  },
  {
   "cell_type": "code",
   "execution_count": null,
   "id": "4c700f15-d943-4782-ab89-7d2c7ace3c1c",
   "metadata": {},
   "outputs": [],
   "source": []
  },
  {
   "cell_type": "code",
   "execution_count": null,
   "id": "1e0eeae5-0ee1-44a5-8b1a-2ff210f44eaf",
   "metadata": {},
   "outputs": [],
   "source": []
  },
  {
   "cell_type": "code",
   "execution_count": null,
   "id": "40fef2a6-895b-40e7-893e-fc4f859d9680",
   "metadata": {},
   "outputs": [],
   "source": []
  },
  {
   "cell_type": "code",
   "execution_count": null,
   "id": "25d25cd2-395b-4980-a4cb-f405ae00524e",
   "metadata": {},
   "outputs": [],
   "source": []
  },
  {
   "cell_type": "code",
   "execution_count": null,
   "id": "a84ee253-5a6a-4abf-9d54-4c6f9db0be2b",
   "metadata": {},
   "outputs": [],
   "source": []
  },
  {
   "cell_type": "code",
   "execution_count": null,
   "id": "03e76a3d-50e4-4e9b-9276-af651c5073ce",
   "metadata": {},
   "outputs": [],
   "source": []
  }
 ],
 "metadata": {
  "kernelspec": {
   "display_name": "Python 3 (ipykernel)",
   "language": "python",
   "name": "python3"
  },
  "language_info": {
   "codemirror_mode": {
    "name": "ipython",
    "version": 3
   },
   "file_extension": ".py",
   "mimetype": "text/x-python",
   "name": "python",
   "nbconvert_exporter": "python",
   "pygments_lexer": "ipython3",
   "version": "3.13.2"
  }
 },
 "nbformat": 4,
 "nbformat_minor": 5
}
