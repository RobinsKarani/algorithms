{
 "cells": [
  {
   "cell_type": "code",
   "execution_count": 25,
   "id": "1af2f96f-c2af-4678-971d-e7dae5116465",
   "metadata": {},
   "outputs": [
    {
     "name": "stdout",
     "output_type": "stream",
     "text": [
      "2\n",
      "2,3\n",
      "The queue is empty\n",
      "True\n"
     ]
    }
   ],
   "source": [
    "class Queue:\n",
    "    def __init__(self):\n",
    "        self.items = []\n",
    "\n",
    "    def isEmpty(self):\n",
    "        if self.items == []:\n",
    "            return True\n",
    "        else:\n",
    "            return False\n",
    "            \n",
    "    def enqueue(self, value):\n",
    "        self.items.append(value) #O(N)\n",
    "        return \"The element has been inserted at the end of the queue\"\n",
    "   \n",
    "    def dequeue(self):\n",
    "        if self.isEmpty():\n",
    "            return \"The Queue is empty\"\n",
    "        else:\n",
    "            return self.items.pop(0)\n",
    "    def peek(self):\n",
    "        if self.isEmpty():\n",
    "            return \"The Queue is empty\"\n",
    "        else:\n",
    "            return self.items[0]\n",
    "            \n",
    "    def deleteall(self):\n",
    "        self.items = []\n",
    "         \n",
    "    def __str__(self):  \n",
    "        if self.isEmpty():\n",
    "            return \"The queue is empty\"\n",
    "        values = [str(x) for x in self.items]\n",
    "        return ','.join(values)\n",
    "        \n",
    "        \n",
    "customQueue = Queue()\n",
    "customQueue.enqueue(1)\n",
    "customQueue.enqueue(2)\n",
    "customQueue.enqueue(3)\n",
    "customQueue.dequeue() #0(n)\n",
    "# print(\"First element: \" + str(customQueue.peek())) \n",
    "print(customQueue.peek())\n",
    "print(customQueue)\n",
    "customQueue.deleteall()\n",
    "print(customQueue)\n",
    "print(customQueue.isEmpty())\n"
   ]
  },
  {
   "cell_type": "code",
   "execution_count": null,
   "id": "e79705fb-438b-4ba7-b5a8-1b4fa2672de3",
   "metadata": {},
   "outputs": [],
   "source": [
    " "
   ]
  }
 ],
 "metadata": {
  "kernelspec": {
   "display_name": "Python 3 (ipykernel)",
   "language": "python",
   "name": "python3"
  },
  "language_info": {
   "codemirror_mode": {
    "name": "ipython",
    "version": 3
   },
   "file_extension": ".py",
   "mimetype": "text/x-python",
   "name": "python",
   "nbconvert_exporter": "python",
   "pygments_lexer": "ipython3",
   "version": "3.13.2"
  }
 },
 "nbformat": 4,
 "nbformat_minor": 5
}
