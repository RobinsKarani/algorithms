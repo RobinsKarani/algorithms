{
 "cells": [
  {
   "cell_type": "raw",
   "id": "f5f19063-4e15-4b89-b121-cad4e8eabf37",
   "metadata": {},
   "source": [
    "A stack is a linear data structure that follows the Last-In, First-Out (LIFO) principle. This means the last element added to the stack is the first one to be removed. Think of it like a stack of plates; you can only add or remove plates from the top. \n",
    "Key characteristics:\n",
    "LIFO (Last-In, First-Out): The most recently added item is the first one to be accessed or removed. \n",
    "One end for operations: Adding (push) and removing (pop) elements happens at the \"top\" of the stack. \n",
    "Abstract data type: Stacks are a fundamental concept used in many programming languages and algorithms. \n",
    "Basic Operations:\n",
    "Push: Adds an element to the top of the stack.\n",
    "Pop: Removes and returns the top element from the stack.\n",
    "Peek/Top: Returns the top element without removing it.\n",
    "IsEmpty: Checks if the stack is empty.\n",
    "Size: Returns the number of elements in the stack. \n",
    "Real-world examples:\n",
    "Browser history:\n",
    "The pages you visit are added to a stack, and clicking \"back\" removes them in reverse order. \n",
    "Undo/Redo functionality:\n",
    "In many applications, each action is pushed onto a stack, and undoing removes the last action. \n",
    "Function call stack:\n",
    "When a function is called, its information is pushed onto a stack, and when the function returns, that information is popped off. \n",
    "Implementation:\n",
    "Stacks can be implemented using arrays or linked lists"
   ]
  },
  {
   "cell_type": "code",
   "execution_count": 11,
   "id": "1a2decfc-0271-4476-8196-02c77339c5ec",
   "metadata": {},
   "outputs": [
    {
     "name": "stdout",
     "output_type": "stream",
     "text": [
      "[10, 20]\n"
     ]
    }
   ],
   "source": [
    "# Using a Python List (Built-in) \n",
    "# Pros: Simple and fast for small to moderate stacks\n",
    "# Cons: .pop(0) (from front) is slow (O(n).Not fast for fast grwing stacks\n",
    "\n",
    "stack = []\n",
    "\n",
    "# Push\n",
    "stack.append(10)\n",
    "stack.append(20)\n",
    "stack.append(30)\n",
    "\n",
    "#pop\n",
    "\n",
    "item = stack.pop()\n",
    "\n",
    "# Peek\n",
    "top = stack[-1]\n",
    "\n",
    "# Check if empty\n",
    "is_empty = len(stack) == 0\n",
    "\n",
    "print(stack)\n",
    "\n",
    "# The pop() operation does two things:\n",
    "\n",
    "# It removes the last element from the stack\n",
    "# It returns that removed element\n",
    "# The variable item now contains 30, but that value is no longer in the stack\n",
    "\n",
    "Pros: Simple and fast for small to moderate stacks\n",
    "Cons: .pop(0) (from front) is slow (O(n))"
   ]
  },
  {
   "cell_type": "markdown",
   "id": "d4aba0c2-111f-4833-b052-47fde8c3af78",
   "metadata": {},
   "source": [
    "##  2.Using collections.deque (Recommended for performance)"
   ]
  },
  {
   "cell_type": "code",
   "execution_count": 14,
   "id": "7f794750-8f8f-4f19-96f5-33fe655ae612",
   "metadata": {},
   "outputs": [
    {
     "name": "stdout",
     "output_type": "stream",
     "text": [
      "deque([10, 20])\n"
     ]
    }
   ],
   "source": [
    "from collections import deque\n",
    "#deque stands for double-ended queue.\n",
    "# It's a built-in Python data structure that lets you add or remove items from both ends efficiently (in O(1) time)\n",
    "# It's faster and more memory-efficient than a list when you're doing a lot of appends/pops from the ends.\n",
    "\n",
    "stack = deque()\n",
    "# Created an empty stack\n",
    "# Internally, it behaves like a dynamic array, but optimized\n",
    "\n",
    "# Push\n",
    "stack.append(10)\n",
    "stack.append(20)\n",
    "stack.append(30)\n",
    "\n",
    "#Pop\n",
    "item = stack.pop()\n",
    "\n",
    "#Peek\n",
    "top = stack[-1]\n",
    "\n",
    "is_empty = len(stack) == 0 #Will return false since stack is not empty hence it's length is nt zero\n",
    "\n",
    "\n",
    "print(stack)"
   ]
  },
  {
   "cell_type": "markdown",
   "id": "2c2b1221-3192-4e47-b1fd-a94bfeca43a9",
   "metadata": {},
   "source": [
    "## 3.Using a Custom Stack Class"
   ]
  },
  {
   "cell_type": "code",
   "execution_count": 24,
   "id": "275db018-4240-48ee-820a-5e58d5e6fd41",
   "metadata": {},
   "outputs": [
    {
     "name": "stdout",
     "output_type": "stream",
     "text": [
      "Stack (Top -> bottom)\n",
      "Antifragile\n",
      "Thinking Fast and Slow\n",
      "Getting Things Done\n",
      "Deep Work\n",
      "Sapiens\n",
      "Atomic Habits\n",
      "Antifragile\n",
      "Thinking Fast and Slow\n",
      "Getting Things Done\n",
      "Deep Work\n",
      "Sapiens\n",
      "Atomic Habits\n"
     ]
    }
   ],
   "source": [
    "class Stack:\n",
    "    def __init__(self):\n",
    "        self.items = []\n",
    "\n",
    "    def push(self, item):\n",
    "         self.items.append(item)\n",
    "    def pop(self,item):\n",
    "        def pop(self):\n",
    "            if not self.is_empty():\n",
    "                return self.items.pop()\n",
    "        return None\n",
    "    def peek(self,item):\n",
    "         return self.items[-1] if not self.is_empty() else None\n",
    "\n",
    "    def is_empty(self,item):\n",
    "         return len(self.items) == 0\n",
    "    def size(self):\n",
    "        return len(size.items)\n",
    "\n",
    "    # def __str__(self):\n",
    "    #     return f\"Stack (Top -> bottom): {list(reversed(self.items))}\"\n",
    "    def print_stack(self):\n",
    "        print(\"Stack (Top -> bottom)\")\n",
    "        for item in  reversed(self.items):\n",
    "            print(item)\n",
    "\n",
    "    \n",
    "stackofbooks = Stack()\n",
    "stackofbooks.push(\"Atomic Habits\")\n",
    "stackofbooks.push(\"Sapiens\")\n",
    "stackofbooks.push(\"Deep Work\")\n",
    "stackofbooks.push(\"Getting Things Done\")\n",
    "stackofbooks.push(\"Thinking Fast and Slow\")\n",
    "stackofbooks.push(\"Antifragile\")\n",
    "\n",
    "#output methods \n",
    "\n",
    "#1\n",
    "# print(stackofbooks)\n",
    "\n",
    "#2\n",
    "stackofbooks.print_stack() \n",
    "\n",
    "#3\n",
    "# for book in reversed(stackofbooks.items):\n",
    "#     print(book)\n",
    "\n",
    "\n",
    "\n"
   ]
  },
  {
   "cell_type": "markdown",
   "id": "7e4e95af-b212-4ce0-a2b2-85a95b960579",
   "metadata": {},
   "source": [
    "## 4. Using queue.LifoQueue (Thread-safe)"
   ]
  },
  {
   "cell_type": "code",
   "execution_count": null,
   "id": "0db3b1d5-024b-4033-89b0-dca4b3849f1b",
   "metadata": {},
   "outputs": [],
   "source": [
    "from queue import LifoQueue\n",
    "\n",
    "stack = LifoQueue()\n",
    "\n",
    "# Push\n",
    "stack.put(10)\n",
    "stack.put(20)\n",
    "\n",
    "# Pop\n",
    "item = stack.get()\n",
    "\n",
    "# Check if empty\n",
    "is_empty = stack.empty()\n",
    "\n",
    "# Pros: Thread-safe (good for multi-threaded apps)\n",
    "# Cons: Slower than list or deque, no direct peek support\n"
   ]
  }
 ],
 "metadata": {
  "kernelspec": {
   "display_name": "Python 3 (ipykernel)",
   "language": "python",
   "name": "python3"
  },
  "language_info": {
   "codemirror_mode": {
    "name": "ipython",
    "version": 3
   },
   "file_extension": ".py",
   "mimetype": "text/x-python",
   "name": "python",
   "nbconvert_exporter": "python",
   "pygments_lexer": "ipython3",
   "version": "3.13.2"
  }
 },
 "nbformat": 4,
 "nbformat_minor": 5
}
