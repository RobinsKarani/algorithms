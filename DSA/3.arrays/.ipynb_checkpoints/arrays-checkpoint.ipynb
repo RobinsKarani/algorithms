{
 "cells": [
  {
   "cell_type": "markdown",
   "id": "f2bdd778-8de8-4695-b08d-9cb5a2fe26b3",
   "metadata": {},
   "source": [
    "# **Features of Arrays in Data Structures and Algorithms**\n",
    "\n",
    "## **1. Fixed Size**\n",
    "- The size of an array is determined at the time of declaration and cannot be changed dynamically in static arrays.\n",
    "- Some languages like Python (lists) and JavaScript (arrays) allow dynamic resizing.\n",
    "\n",
    "## **2. Random Access**\n",
    "- Elements can be accessed directly using an index in **O(1)** time.\n",
    "- Example: `arr[i]` gives the `i`-th element instantly.\n",
    "\n",
    "## **3. Efficient Traversal**\n",
    "- Arrays allow fast traversal using loops like `for` and `while`.\n",
    "- Example (Python):  \n",
    "  ```python\n",
    "  for i in range(n):\n",
    "      print(arr[i])\n"
   ]
  },
  {
   "cell_type": "markdown",
   "id": "e59a0c25-9a80-45d2-99ff-2cb26abcb324",
   "metadata": {},
   "source": [
    "| Type code | C Type                 | Python Type        | Minimum size in bytes | Notes |\n",
    "|-----------|------------------------|--------------------|------------------------|-------|\n",
    "| 'b'       | signed char            | int                | 1                      |       |\n",
    "| 'B'       | unsigned char          | int                | 1                      |       |\n",
    "| 'u'       | wchar_t                | Unicode character  | 2                      | (1)   |\n",
    "| 'w'       | Py_UCS4                | Unicode character  | 4                      |       |\n",
    "| 'h'       | signed short           | int                | 2                      |       |\n",
    "| 'H'       | unsigned short         | int                | 2                      |       |\n",
    "| 'i'       | signed int             | int                | 2                      |       |\n",
    "| 'I'       | unsigned int           | int                | 2                      |       |\n",
    "| 'l'       | signed long            | int                | 4                      |       |\n",
    "| 'L'       | unsigned long          | int                | 4                      |       |\n",
    "| 'q'       | signed long long       | int                | 8                      |       |\n",
    "| 'Q'       | unsigned long long     | int                | 8                      |       |\n",
    "| 'f'       | float                  | float              | 4                      |       |\n",
    "| 'd'       | double                 | float              | 8                      |       |\n"
   ]
  },
  {
   "cell_type": "code",
   "execution_count": null,
   "id": "69f413a4-23ee-432b-97b5-bd5782effb3f",
   "metadata": {},
   "outputs": [],
   "source": []
  },
  {
   "cell_type": "markdown",
   "id": "5f52b111-7500-45a0-8d62-4f2a386567c7",
   "metadata": {},
   "source": [
    "from array import array\n",
    "\n",
    "# Define an integer array (typecode 'i' means signed integer)\n",
    "array1 = array('i', [1, 2, 3, 4, 5])\n",
    "\n",
    "print(array1)\n",
    "print(\"Array elements:\", list(array1))  # Converts to list for cleaner output\n",
    "\n",
    "# Alternative way to print elements one by one\n",
    "for num in array1:\n",
    "    print(num, end=\" \")  # Prints: 1 2 3 4 5\n"
   ]
  },
  {
   "cell_type": "code",
   "execution_count": 8,
   "id": "5e3f703a-d4e9-4654-90db-67365312ab82",
   "metadata": {},
   "outputs": [
    {
     "name": "stdout",
     "output_type": "stream",
     "text": [
      "array('i', [1, 2, 3, 4, 5, 6, 7])\n",
      "array('i', [0, 1, 2, 3, 4, 5, 6, 7])\n",
      "array('i', [0, 1, 2, 44, 3, 4, 5, 6, 7])\n"
     ]
    }
   ],
   "source": [
    "#Insertion\n",
    "arr1 = array('i',[1,2,3,4,5,6])\n",
    "arr2 = array('d',[1.1,1.2,1.3])\n",
    "\n",
    "#arrayname.insert(index,element)\n",
    "arr1.insert(6,7) #O(1)\n",
    "print(arr1)\n",
    "\n",
    "arr1.insert(0,0) #O(n)\n",
    "print(arr1)\n",
    "\n",
    "#insert element 44 in index [3]/,4th elemnt\n",
    "arr1.insert(3,44) #O(n)\n",
    "print(arr1)"
   ]
  },
  {
   "cell_type": "code",
   "execution_count": 15,
   "id": "9e19c9de-8733-41e8-a116-5ae92b344edd",
   "metadata": {},
   "outputs": [
    {
     "name": "stdout",
     "output_type": "stream",
     "text": [
      "array('i', [1, 2, 3, 4, 5, 6])\n",
      "1\n",
      "2\n",
      "3\n",
      "4\n",
      "5\n",
      "6\n"
     ]
    }
   ],
   "source": [
    "#Traversal operation\n",
    "def traverseArray(array):\n",
    "    print(arr3)\n",
    "\n",
    "    for element in array:\n",
    "        print(element)\n",
    "        #print( element,end = \" \")\n",
    "        \n",
    "arr3 = array('i',[1,2,3,4,5,6])        \n",
    "traverseArray(arr3)\n",
    "\n",
    "#Tcomplexity = O(n) ~loop\n",
    "#Scomplexity= O(1) coz we don need extra space to perform the operation\n"
   ]
  },
  {
   "cell_type": "code",
   "execution_count": 16,
   "id": "6dca2ccb-388e-4c1a-8404-e2f0263b2ae2",
   "metadata": {},
   "outputs": [
    {
     "name": "stdout",
     "output_type": "stream",
     "text": [
      "6\n"
     ]
    }
   ],
   "source": [
    "#Access element\n",
    "arr4 = array('i',[1,2,3,4,5,6]) \n",
    "def accessElement(array,index):\n",
    "    if index >= len(array):\n",
    "        print(\"There's no element in the index you're trying to access\")\n",
    "    else:\n",
    "        print(array[index])\n",
    "accessElement(arr4,5)        "
   ]
  },
  {
   "cell_type": "code",
   "execution_count": 24,
   "id": "1f3d6a21-cd64-4226-9b73-ceae97f10ddb",
   "metadata": {},
   "outputs": [
    {
     "name": "stdout",
     "output_type": "stream",
     "text": [
      "3\n",
      "4\n",
      "The element 9 does not exist in this array\n"
     ]
    }
   ],
   "source": [
    "arr4 = array('i',[1,2,3,4,5,6])\n",
    "\n",
    "def searchArray(array,value):\n",
    "    for element in array:\n",
    "        if element == value:\n",
    "            return array.index(value)\n",
    "    return f\"The element {value} does not exist in this array\"   \n",
    "locationOfFour = searchArray(arr4,4)\n",
    "locationOfFive = searchArray(arr4,5)\n",
    "locationOfNine = searchArray(arr4,9)\n",
    "\n",
    "print(locationOfFour)\n",
    "print(locationOfFive)\n",
    "print(locationOfNine)\n"
   ]
  },
  {
   "cell_type": "code",
   "execution_count": null,
   "id": "53a9120a-ac93-4ef6-8e4d-a5e600be23dd",
   "metadata": {},
   "outputs": [],
   "source": []
  }
 ],
 "metadata": {
  "kernelspec": {
   "display_name": "Python 3 (ipykernel)",
   "language": "python",
   "name": "python3"
  },
  "language_info": {
   "codemirror_mode": {
    "name": "ipython",
    "version": 3
   },
   "file_extension": ".py",
   "mimetype": "text/x-python",
   "name": "python",
   "nbconvert_exporter": "python",
   "pygments_lexer": "ipython3",
   "version": "3.13.1"
  }
 },
 "nbformat": 4,
 "nbformat_minor": 5
}
