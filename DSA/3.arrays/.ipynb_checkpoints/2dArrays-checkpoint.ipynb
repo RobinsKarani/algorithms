{
 "cells": [
  {
   "cell_type": "code",
   "execution_count": 4,
   "id": "241f2e0e-77bc-4eeb-a377-13733e48d4c9",
   "metadata": {},
   "outputs": [],
   "source": [
    "import numpy as np\n"
   ]
  },
  {
   "cell_type": "code",
   "execution_count": 5,
   "id": "2d33e763-fa4f-4a6c-85c0-f149f8ef2527",
   "metadata": {},
   "outputs": [
    {
     "name": "stdout",
     "output_type": "stream",
     "text": [
      "[[ 1  2  3  4  5]\n",
      " [ 6  7  8  9 10]\n",
      " [11 12 13 14 15]]\n"
     ]
    }
   ],
   "source": [
    "twoDarray = np.array([\n",
    "    [1,2,3,4,5],\n",
    "    [6,7,8,9,10],\n",
    "    [11,12,13,14,15]\n",
    "])\n",
    "print(twoDarray)\n"
   ]
  },
  {
   "cell_type": "markdown",
   "id": "9342d819-b0e0-43b6-8101-8b79e9d21637",
   "metadata": {},
   "source": [
    "```python\n",
    "np.insert(arr, obj, values, axis=None)\n",
    "```\n",
    "\n",
    "#### **arr** → The original NumPy array.\n",
    "#### **obj** → The index (or indices) where the new values should be inserted.\n",
    "#### **values** → The values to be inserted. The shape must match the shape of the array along the insertion axis.\n",
    "#### **axis** → Specifies the axis along which to insert the values:\n",
    "#### **axis=0** → Inserts values along rows (adds a new row).\n",
    "####  **axis=1** → Inserts values along columns (adds a new column).\n",
    "#### **axis=None** (default) → Flattens the array first, then inserts the  "
   ]
  },
  {
   "cell_type": "code",
   "execution_count": 6,
   "id": "b331a695-9db2-495f-ac7e-6594d1637294",
   "metadata": {},
   "outputs": [
    {
     "name": "stdout",
     "output_type": "stream",
     "text": [
      "[[ 1  1  2  3  4  5]\n",
      " [ 1  6  7  8  9 10]\n",
      " [ 1 11 12 13 14 15]] \n",
      "\n",
      "[[ 1  1  2  3  4  5]\n",
      " [ 2  6  7  8  9 10]\n",
      " [ 3 11 12 13 14 15]] \n",
      "\n",
      "[[10 10 10 10 10]\n",
      " [ 1  2  3  4  5]\n",
      " [ 6  7  8  9 10]\n",
      " [11 12 13 14 15]] \n",
      "\n",
      "[[ 1  2  3  4  5]\n",
      " [10 10 10 10 10]\n",
      " [ 6  7  8  9 10]\n",
      " [11 12 13 14 15]]\n"
     ]
    }
   ],
   "source": [
    "#insertion\n",
    "originalArray = np.array([\n",
    "    [1,2,3,4,5],\n",
    "    [6,7,8,9,10],\n",
    "    [11,12,13,14,15]\n",
    "])\n",
    "\n",
    "new2Darray = np.insert(originalArray,0,[1],axis = 1)\n",
    "newArray2 = np.insert(originalArray,0,[1,2,3],axis = 1)\n",
    "newArray3 = np.insert(originalArray,0,[10],axis = 0)\n",
    "newArray4 = np.insert(originalArray,1,[10],axis = 0)\n",
    "print(f\"{new2Darray} \\n\") \n",
    "print(f\"{newArray2} \\n\")\n",
    "print(f\"{newArray3} \\n\")\n",
    "print(newArray4)\n",
    "\n",
    "\n",
    "\n"
   ]
  },
  {
   "cell_type": "markdown",
   "id": "9ee64b48-2855-448b-a4fe-7a0f9fd86f37",
   "metadata": {},
   "source": [
    "<d>"
   ]
  },
  {
   "cell_type": "markdown",
   "id": "357da29c-ef21-4d20-a086-920f1044bf8b",
   "metadata": {},
   "source": [
    "### Using append()\n",
    "```python\n",
    "np.append(arr, values, axis=None)\n",
    "```\n",
    "\n",
    "#### Summary: When to Use Which?\n",
    "#### Use Case\tBest Function\n",
    "#### Insert at a specific position\tnp.insert()\n",
    "#### Append a row at the end\tnp.append(..., axis=0)\n",
    "#### Append a column at the end\tnp.append(..., axis=1), but reshape first\n",
    "#### Append elements without axis\tnp.append() (flattens everything)"
   ]
  },
  {
   "cell_type": "code",
   "execution_count": 7,
   "id": "93cb8f5d-f206-4f71-9e6a-6c6aa0b7b499",
   "metadata": {},
   "outputs": [
    {
     "name": "stdout",
     "output_type": "stream",
     "text": [
      "1\n"
     ]
    }
   ],
   "source": [
    "#Accessing 2D array\n",
    "def accessElements(array, rowIndex, colIndex):\n",
    "    # Fix the condition to properly check index boundaries\n",
    "    if rowIndex >= len(array) or colIndex >= len(array[0]):\n",
    "        print('Invalid Index')\n",
    "    else:\n",
    "        print(array[rowIndex][colIndex]) \n",
    "\n",
    "originalArray = [\n",
    "    [1, 2, 3],\n",
    "    [4, 5, 6],\n",
    "    [7, 8, 9]\n",
    "]        \n",
    "accessElements(originalArray,0,0)        \n"
   ]
  },
  {
   "cell_type": "code",
   "execution_count": 8,
   "id": "572958f4-ca0f-4f72-8777-99772547e69d",
   "metadata": {},
   "outputs": [
    {
     "name": "stdout",
     "output_type": "stream",
     "text": [
      "1\n",
      "2\n",
      "3\n",
      "4\n",
      "5\n",
      "6\n",
      "7\n",
      "8\n",
      "9\n"
     ]
    }
   ],
   "source": [
    "#traverse 2d array\n",
    "twoDArray = np.array([\n",
    "    [1, 2, 3],\n",
    "    [4, 5, 6],\n",
    "    [7, 8, 9]\n",
    "]) \n",
    "\n",
    "def traverseArray(array):\n",
    "    for i in range(len(array)):\n",
    "        for j in range(len(array[0])):\n",
    "            print(array[i][j])    \n",
    "traverseArray(twoDArray)       \n",
    "\n",
    "#Time complexity is O(Rows * Columns) O(n^2)\n",
    "\n"
   ]
  },
  {
   "cell_type": "code",
   "execution_count": 11,
   "id": "4d7513f2-3655-42da-8a7c-2e7307d878c4",
   "metadata": {},
   "outputs": [
    {
     "name": "stdout",
     "output_type": "stream",
     "text": [
      "11 is not in the array\n"
     ]
    }
   ],
   "source": [
    "myArray = np.array([\n",
    "    [1, 2, 3],\n",
    "    [4, 5, 6],\n",
    "    [7, 8, 9]\n",
    "])\n",
    "def searchArray(array, value):\n",
    "    for i in range(len(array)):\n",
    "        for j in range(len(array[0])):\n",
    "            if array[i][j]  == value:\n",
    "                return f\"{value} has been found at index [{i},{j}]\"\n",
    "    return f\"{value} is not in the array\" \n",
    "print(searchArray(myArray,11))            \n",
    "    "
   ]
  },
  {
   "cell_type": "code",
   "execution_count": 15,
   "id": "1b4a4295-b5c0-4ed3-84ae-a1d7132f29dc",
   "metadata": {},
   "outputs": [
    {
     "name": "stdout",
     "output_type": "stream",
     "text": [
      "[[4 5 6]\n",
      " [7 8 9]]\n",
      "\n",
      "\n",
      "[[2 3]\n",
      " [5 6]\n",
      " [8 9]]\n"
     ]
    }
   ],
   "source": [
    "#Deleting a row or a column in 2d array\n",
    "myArray = np.array([\n",
    "    [1, 2, 3],\n",
    "    [4, 5, 6],\n",
    "    [7, 8, 9]\n",
    "])\n",
    "newArray = np.delete(myArray,0,axis = 0)\n",
    "print(newArray)\n",
    "print(\"\\n\")\n",
    "newArray = np.delete(myArray,0,axis = 1)\n",
    "print(newArray)\n",
    "\n"
   ]
  },
  {
   "cell_type": "markdown",
   "id": "3ff9ffde-2894-4e4d-8753-798fb86f6d13",
   "metadata": {},
   "source": [
    "Link~[When to use/avoid using Arrays](https://grok.com/share/bGVnYWN5_0fe894f1-9c0d-4f86-bbae-6ef1544f96a5)"
   ]
  },
  {
   "cell_type": "markdown",
   "id": "ec824cc4-7dde-43ab-a2be-a1ef97869134",
   "metadata": {},
   "source": []
  },
  {
   "cell_type": "code",
   "execution_count": null,
   "id": "294176a5-b43f-4a5f-949f-33a2bc769547",
   "metadata": {},
   "outputs": [],
   "source": []
  },
  {
   "cell_type": "markdown",
   "id": "2b31e5c5-7564-46cb-ad3e-1ee5316c9dde",
   "metadata": {},
   "source": []
  }
 ],
 "metadata": {
  "kernelspec": {
   "display_name": "Python 3 (ipykernel)",
   "language": "python",
   "name": "python3"
  },
  "language_info": {
   "codemirror_mode": {
    "name": "ipython",
    "version": 3
   },
   "file_extension": ".py",
   "mimetype": "text/x-python",
   "name": "python",
   "nbconvert_exporter": "python",
   "pygments_lexer": "ipython3",
   "version": "3.13.1"
  }
 },
 "nbformat": 4,
 "nbformat_minor": 5
}
