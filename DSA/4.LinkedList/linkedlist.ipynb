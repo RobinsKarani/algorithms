{
 "cells": [
  {
   "cell_type": "code",
   "execution_count": 1,
   "id": "50a84ae4-21d7-4749-ae89-83561b0f9db3",
   "metadata": {},
   "outputs": [],
   "source": [
    "#Singly"
   ]
  },
  {
   "cell_type": "code",
   "execution_count": 1,
   "id": "e3a6af06-d2af-4804-b68b-462478c8d82b",
   "metadata": {},
   "outputs": [],
   "source": [
    "class SinglyNode:\n",
    "    def __init__(self,value,next=None):\n",
    "        self.value = value\n",
    "        self.next = next\n",
    "\n",
    "    def __str__(self):\n",
    "        return str(self.value)"
   ]
  },
  {
   "cell_type": "code",
   "execution_count": 2,
   "id": "134e11c3-87af-4d16-9626-edae0068c5f5",
   "metadata": {},
   "outputs": [
    {
     "name": "stdout",
     "output_type": "stream",
     "text": [
      "1\n"
     ]
    }
   ],
   "source": [
    "Head = SinglyNode(1)\n",
    "A = SinglyNode(3)\n",
    "B = SinglyNode(4)\n",
    "C = SinglyNode(7)\n",
    "\n",
    "Head.next = A\n",
    "A.next = B\n",
    "B.next = C\n",
    "print(Head)"
   ]
  },
  {
   "cell_type": "code",
   "execution_count": 3,
   "id": "21b611f3-1096-4476-9045-f1770f0fb0b1",
   "metadata": {},
   "outputs": [
    {
     "name": "stdout",
     "output_type": "stream",
     "text": [
      "1\n",
      "3\n",
      "4\n",
      "7\n"
     ]
    }
   ],
   "source": [
    "#Traversal\n",
    "current = Head\n",
    "while current:\n",
    "    print(current)\n",
    "    current = current.next\n",
    "    "
   ]
  },
  {
   "cell_type": "code",
   "execution_count": 4,
   "id": "72a4d673-e6cd-4cf7-bfff-d090dce9b2e1",
   "metadata": {},
   "outputs": [],
   "source": [
    "#Display liked list (n)"
   ]
  },
  {
   "cell_type": "code",
   "execution_count": 5,
   "id": "d68a276c-78d9-4782-bd02-cdb8a3a6d70c",
   "metadata": {},
   "outputs": [
    {
     "name": "stdout",
     "output_type": "stream",
     "text": [
      "1->3->4->7\n"
     ]
    }
   ],
   "source": [
    "def display(head):\n",
    "    current = head\n",
    "    elements = []\n",
    "    while current:\n",
    "        elements.append(str(current.value))\n",
    "        current = current.next  # Advance to the next node\n",
    "    print(\"->\".join(elements))\n",
    "\n",
    "display(Head)\n"
   ]
  },
  {
   "cell_type": "code",
   "execution_count": null,
   "id": "8cb70531-0912-4baf-9715-ff870400abc1",
   "metadata": {},
   "outputs": [],
   "source": []
  }
 ],
 "metadata": {
  "kernelspec": {
   "display_name": "Python 3 (ipykernel)",
   "language": "python",
   "name": "python3"
  },
  "language_info": {
   "codemirror_mode": {
    "name": "ipython",
    "version": 3
   },
   "file_extension": ".py",
   "mimetype": "text/x-python",
   "name": "python",
   "nbconvert_exporter": "python",
   "pygments_lexer": "ipython3",
   "version": "3.13.2"
  }
 },
 "nbformat": 4,
 "nbformat_minor": 5
}
