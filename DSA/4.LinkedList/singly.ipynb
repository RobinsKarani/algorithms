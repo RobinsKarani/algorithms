{
 "cells": [
  {
   "cell_type": "code",
   "execution_count": 30,
   "id": "e8812767-eda9-4677-aa79-98708073908b",
   "metadata": {},
   "outputs": [],
   "source": [
    "class Node:\n",
    "    def __init__(self, data):\n",
    "        self.data = data\n",
    "        self.next = None\n",
    "\n",
    "\n",
    "class LinkedList:\n",
    "    def __init__(self):\n",
    "        self.head = None\n",
    "        self.size = 0\n",
    "\n",
    "    def append(self, data):\n",
    "        new_node = Node(data)\n",
    "\n",
    "        # Case 1: Empty list\n",
    "        if self.head is None:\n",
    "            self.head = new_node\n",
    "            self.size += 1\n",
    "            return\n",
    "\n",
    "        # Case 2: Non-empty list\n",
    "        current = self.head  # Let the variable current point to the first node\n",
    "        while current.next:  # Move to the last node\n",
    "            current = current.next\n",
    "        current.next = new_node\n",
    "        self.size += 1\n",
    "\n",
    "    def prepend(self, data):\n",
    "        new_node = Node(data)\n",
    "        new_node.next = self.head\n",
    "        self.head = new_node\n",
    "        self.size += 1\n",
    "\n",
    "    def find(self, target_value):\n",
    "        current = self.head\n",
    "        while current:\n",
    "            if current.data == target_value:\n",
    "                return current\n",
    "            else:\n",
    "                current = current.next\n",
    "        return None\n",
    "            \n",
    "    def insert_after(self, prev_node, data):\n",
    "        \"\"\"Insert a new node after the specified previous node.\"\"\"\n",
    "        if not prev_node:\n",
    "            print(\"Previous node must be in the list.\")\n",
    "            return\n",
    "        new_node = Node(data)\n",
    "        new_node.next = prev_node.next  # New node points to next node of prev_node\n",
    "        prev_node.next = new_node\n",
    "        self.size += 1\n",
    "\n",
    "    def display(self):\n",
    "        current = self.head\n",
    "        while current:\n",
    "            print(current.data, end=\" -> \")\n",
    "            current = current.next\n",
    "        print(\"None\")\n",
    "    "
   ]
  },
  {
   "cell_type": "code",
   "execution_count": 34,
   "id": "e973e9f0-1624-4fe2-aad5-e2468d9812d1",
   "metadata": {},
   "outputs": [
    {
     "name": "stdout",
     "output_type": "stream",
     "text": [
      "6 -> 4 -> None\n",
      "6 -> 5 -> 4 -> None\n"
     ]
    }
   ],
   "source": [
    "ll = LinkedList()\n",
    "ll.append(4)\n",
    "ll.prepend(6)\n",
    "\n",
    "ll.display()\n",
    "\n",
    "node_4 = ll.find(6)  #find node with value 4\n",
    "ll.insert_after(node_4,5)\n",
    "ll.display()"
   ]
  },
  {
   "cell_type": "markdown",
   "id": "9fe70975-f5d1-4f03-8882-b12aa9d74ad5",
   "metadata": {},
   "source": [
    "<h5> Before inserting after 4, you need to find the node that contains 4.\n",
    "You can do this by writing a helper method like find().\n",
    "</h5>"
   ]
  },
  {
   "cell_type": "code",
   "execution_count": null,
   "id": "6a92cc67-9c74-4340-9cca-a549a75dffb3",
   "metadata": {},
   "outputs": [],
   "source": []
  },
  {
   "cell_type": "code",
   "execution_count": null,
   "id": "c5d22ba9-2508-4324-b304-a6cb0f96e1ca",
   "metadata": {},
   "outputs": [],
   "source": []
  }
 ],
 "metadata": {
  "kernelspec": {
   "display_name": "Python 3 (ipykernel)",
   "language": "python",
   "name": "python3"
  },
  "language_info": {
   "codemirror_mode": {
    "name": "ipython",
    "version": 3
   },
   "file_extension": ".py",
   "mimetype": "text/x-python",
   "name": "python",
   "nbconvert_exporter": "python",
   "pygments_lexer": "ipython3",
   "version": "3.13.2"
  }
 },
 "nbformat": 4,
 "nbformat_minor": 5
}
