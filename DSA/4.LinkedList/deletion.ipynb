{
 "cells": [
  {
   "cell_type": "code",
   "execution_count": 8,
   "id": "f3600073-c4a6-49ef-b7a4-9a43bee052ee",
   "metadata": {},
   "outputs": [
    {
     "data": {
      "text/plain": [
       "'44'"
      ]
     },
     "execution_count": 8,
     "metadata": {},
     "output_type": "execute_result"
    }
   ],
   "source": [
    "class Node:\n",
    "    def __init__(self, value):\n",
    "        self.value = value\n",
    "        self.next = None\n",
    "\n",
    "class LinkedList:\n",
    "    def __init__(self):\n",
    "        self.head = None\n",
    "        self.count = 0\n",
    "\n",
    "    def append(self,value):\n",
    "        new_node = Node(value)\n",
    "        if not self.head: #if the list is empty\n",
    "            self.head = new_node\n",
    "            return\n",
    "            \n",
    "        current = self.head\n",
    "        while current.next:\n",
    "                current = current.next\n",
    "        current.next = new_node #Link the new node at the end\n",
    "\n",
    "    def delete(self,key):\n",
    "        current = self.head\n",
    "\n",
    "        #case1: Delete head node\n",
    "        if current and current.value == key:\n",
    "            self.head = current.next # Move head pointer to the next node\n",
    "            current = None #Dereference the old head  node (eligible fr garbage collectio )\n",
    "            return\n",
    "        #case 2: Delete other node which is not head\n",
    "        prev = None #This will keep track of the previus node during traversal\n",
    "        while current:\n",
    "            if current.value == key:\n",
    "                break \n",
    "            prev = current #move prev to current node\n",
    "            current = current.next #Move current to the next node\n",
    "        if current is None:\n",
    "            return #if the lop completes and the current is None(tail) ,the key was not found\n",
    "\n",
    "        prev.next = current.next\n",
    "        current = None #Dereference the deleted node (Eligible for garbage collection)\n",
    "\n",
    "    def display(self):\n",
    "        current = self.head\n",
    "        elements = []\n",
    "        while current:\n",
    "            elements.append(str(current.value))\n",
    "            current = current.next\n",
    "        return \"->\" .join(elements)       \n",
    "\n",
    "ll = LinkedList()\n",
    "ll.append(33)\n",
    "ll.append(44)\n",
    "ll.delete(33)\n",
    "ll.display()\n",
    "                  "
   ]
  },
  {
   "cell_type": "code",
   "execution_count": null,
   "id": "c5e171b0-74bf-4147-a823-6c91027e156c",
   "metadata": {},
   "outputs": [],
   "source": []
  }
 ],
 "metadata": {
  "kernelspec": {
   "display_name": "Python 3 (ipykernel)",
   "language": "python",
   "name": "python3"
  },
  "language_info": {
   "codemirror_mode": {
    "name": "ipython",
    "version": 3
   },
   "file_extension": ".py",
   "mimetype": "text/x-python",
   "name": "python",
   "nbconvert_exporter": "python",
   "pygments_lexer": "ipython3",
   "version": "3.13.2"
  }
 },
 "nbformat": 4,
 "nbformat_minor": 5
}
