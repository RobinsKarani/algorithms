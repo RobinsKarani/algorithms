{
 "cells": [
  {
   "cell_type": "markdown",
   "id": "2367f851-3f65-45a6-8476-179f1b771796",
   "metadata": {},
   "source": [
    "## BIG O AND SCALABILITY"
   ]
  },
  {
   "cell_type": "markdown",
   "id": "f5fd6c2b-412d-44c2-987b-898fdaa09447",
   "metadata": {
    "vscode": {
     "languageId": "html"
    }
   },
   "source": [
    "<h2>What is a good code?</h2>\n",
    "\n",
    "<p style=\"margin: 2px 0;\">Readable</p>\n",
    "\n",
    "<p style=\"margin: 2px 0;\">Scalable</p>\n",
    "\n",
    "<p style=\"margin: 2px 0;\">...others</p>\n"
   ]
  },
  {
   "cell_type": "markdown",
   "id": "af0e138b",
   "metadata": {},
   "source": []
  },
  {
   "cell_type": "markdown",
   "id": "d3777de0-bc8a-4af1-96ac-f5db1a81716d",
   "metadata": {},
   "source": [
    "##"
   ]
  },
  {
   "cell_type": "markdown",
   "id": "422e16b6-28db-4a36-a603-4621754614f9",
   "metadata": {},
   "source": [
    "## Measuring time taken by the loop to run 👇"
   ]
  },
  {
   "cell_type": "code",
   "execution_count": 18,
   "id": "553bd18a-dd44-4092-a5d1-c2035acea566",
   "metadata": {},
   "outputs": [
    {
     "name": "stdout",
     "output_type": "stream",
     "text": [
      "Found NEMO!\n",
      "Time taken: 0.001142 seconds\n"
     ]
    }
   ],
   "source": [
    "import time\n",
    "\n",
    "nemo = ['nemo']\n",
    "\n",
    "def find_nemo(array):\n",
    "    t0 = time.time()\n",
    "    for i in range(len(array)):\n",
    "        if array[i] == 'nemo':\n",
    "            print('Found NEMO!')\n",
    "    t1 = time.time()\n",
    "    print(f'Time taken: {t1 - t0:.6f} seconds')\n",
    "find_nemo(nemo)\n",
    "         "
   ]
  },
  {
   "cell_type": "markdown",
   "id": "79b5a411-e358-428d-bdd3-d10566e7687c",
   "metadata": {},
   "source": [
    "<h3>What if we increase the siz of the array?<h3/>"
   ]
  },
  {
   "cell_type": "code",
   "execution_count": 30,
   "id": "d934817f-06eb-48f5-b7df-080d9efff119",
   "metadata": {},
   "outputs": [
    {
     "name": "stdout",
     "output_type": "stream",
     "text": [
      "running\n",
      "running\n",
      "running\n",
      "running\n",
      "Found NEMO!\n",
      "running\n",
      "running\n",
      "running\n",
      "Time taken: 0.001071 seconds\n"
     ]
    }
   ],
   "source": [
    "import time\n",
    "\n",
    "everyone = [\"Jack\",\"Alex\",\"Amani\",\"Nemo\",\"Shauri\",\"Ali\",\"\"]\n",
    "\n",
    "def find_nemo(array):\n",
    "    t0 = time.time()\n",
    "    for person in array:\n",
    "        print(\"running\")\n",
    "        if person == 'Nemo': \n",
    "            print('Found NEMO!')\n",
    "    t1 = time.time()\n",
    "    print(f'Time taken: {t1 - t0:.6f} seconds')\n",
    "find_nemo(everyone)\n"
   ]
  },
  {
   "cell_type": "code",
   "execution_count": 31,
   "id": "08025368-6f51-4fb3-8e0e-24287ceceab4",
   "metadata": {},
   "outputs": [
    {
     "name": "stdout",
     "output_type": "stream",
     "text": [
      "running\n",
      "running\n",
      "running\n",
      "running\n",
      "Found NEMO!\n",
      "Time taken: 0.000269 seconds\n"
     ]
    }
   ],
   "source": [
    "import time\n",
    "\n",
    "everyone = [\"Jack\",\"Alex\",\"Amani\",\"Nemo\",\"Shauri\",\"Ali\",\"\"]\n",
    "\n",
    "def find_nemo(array):\n",
    "    t0 = time.time()\n",
    "    for person in array:\n",
    "        print(\"running\")\n",
    "        if person == 'Nemo': \n",
    "            print('Found NEMO!')\n",
    "            break\n",
    "    t1 = time.time()\n",
    "    print(f'Time taken: {t1 - t0:.6f} seconds')\n",
    "find_nemo(everyone)\n"
   ]
  },
  {
   "cell_type": "markdown",
   "id": "12ba1e64-dc79-4944-a75c-7c4901a038ca",
   "metadata": {},
   "source": []
  },
  {
   "cell_type": "markdown",
   "id": "263881a9-b294-40e9-ad7e-61e82bd43af7",
   "metadata": {},
   "source": [
    "<h3>Challenge: find big O o the fllowing:<h3/>"
   ]
  },
  {
   "cell_type": "code",
   "execution_count": 22,
   "id": "92630680-a5f1-4533-acbb-2260ed51a2a4",
   "metadata": {},
   "outputs": [],
   "source": [
    "def fun_challenge(input_list):\n",
    "    a = 10 #O(1)\n",
    "    a = 50 + 3 #O(1)\n",
    "\n",
    "    for _ in range(len(input_list)): #O(n)\n",
    "        another_function() #O(n)\n",
    "        stranger = True #O(n)\n",
    "        a += 1 #O(n)\n",
    "\n",
    "    return a #o(1)  \n"
   ]
  },
  {
   "cell_type": "markdown",
   "id": "13164c5d-79ad-4252-b4b5-259db6e3b4cb",
   "metadata": {},
   "source": [
    "# Big O Rules"
   ]
  },
  {
   "cell_type": "markdown",
   "id": "ac1e71a1-0869-446a-b136-4776dc6eb1a2",
   "metadata": {},
   "source": [
    "### Worst case\n",
    "#### Worst-case complexity in Big-O notation describes the maximum amount of time(or space) an algorithm takes to complete, given the worst possible input of size n\n",
    "#### It provides an upper bound on how the algorithm behaves in the most difficult scenario."
   ]
  },
  {
   "cell_type": "code",
   "execution_count": 3,
   "id": "09ec77b3-6e89-4d9c-b052-6295f39b8b26",
   "metadata": {},
   "outputs": [],
   "source": [
    "def print_first_item_then_first_half_then_say_hi_100_times(items):\n",
    "    print(items[0])\n",
    "    \n",
    "    middle_index = len(items) // 2\n",
    "    index = 0\n",
    "    \n",
    "    while index < middle_index:\n",
    "        print(items[index])\n",
    "        index += 1\n",
    "    \n",
    "    for i in range(100):\n",
    "        print('hi')\n"
   ]
  },
  {
   "cell_type": "code",
   "execution_count": 4,
   "id": "474c12c7-d4a4-446e-ac1f-0182e2e9f28a",
   "metadata": {},
   "outputs": [],
   "source": [
    "def compress_boxes_twice(boxes,boxes2):\n",
    "    for box in boxes:\n",
    "        print(box)\n",
    "\n",
    "    for box in boxes2:\n",
    "        print(box)\n"
   ]
  },
  {
   "cell_type": "code",
   "execution_count": 17,
   "id": "9a6d05ed-d75a-4cef-9274-fd4984ff3404",
   "metadata": {},
   "outputs": [
    {
     "name": "stdout",
     "output_type": "stream",
     "text": [
      "Individual Numbers:\n",
      "1\n",
      "2\n",
      "3\n",
      "4\n",
      "5\n",
      "\n",
      "Pair Sums:\n",
      "1 + 1 = 2\n",
      "1 + 2 = 3\n",
      "1 + 3 = 4\n",
      "1 + 4 = 5\n",
      "1 + 5 = 6\n",
      "2 + 1 = 3\n",
      "2 + 2 = 4\n",
      "2 + 3 = 5\n",
      "2 + 4 = 6\n",
      "2 + 5 = 7\n",
      "3 + 1 = 4\n",
      "3 + 2 = 5\n",
      "3 + 3 = 6\n",
      "3 + 4 = 7\n",
      "3 + 5 = 8\n",
      "4 + 1 = 5\n",
      "4 + 2 = 6\n",
      "4 + 3 = 7\n",
      "4 + 4 = 8\n",
      "4 + 5 = 9\n",
      "5 + 1 = 6\n",
      "5 + 2 = 7\n",
      "5 + 3 = 8\n",
      "5 + 4 = 9\n",
      "5 + 5 = 10\n"
     ]
    }
   ],
   "source": [
    "boxes = [1, 2, 3, 4, 5]\n",
    "\n",
    "def printAllNumbersThenAllPairSums(array):\n",
    "    print(\"Individual Numbers:\")\n",
    "    for i in range(len(array)):\n",
    "        print(array[i])\n",
    "    \n",
    "    print(\"\\nPair Sums:\")\n",
    "    for i in range(len(array)):\n",
    "        for j in range(len(array)):\n",
    "            print(f\"{array[i]} + {array[j]} = {array[i] + array[j]}\")\n",
    "\n",
    "printAllNumbersThenAllPairSums(boxes)\n"
   ]
  },
  {
   "cell_type": "code",
   "execution_count": null,
   "id": "5fd02b4f-16e3-4ef4-b716-16eedc67248b",
   "metadata": {},
   "outputs": [],
   "source": []
  },
  {
   "cell_type": "code",
   "execution_count": null,
   "id": "8cd515ad-06fb-4879-9564-35bca44b8942",
   "metadata": {},
   "outputs": [],
   "source": []
  }
 ],
 "metadata": {
  "kernelspec": {
   "display_name": "Python 3 (ipykernel)",
   "language": "python",
   "name": "python3"
  },
  "language_info": {
   "codemirror_mode": {
    "name": "ipython",
    "version": 3
   },
   "file_extension": ".py",
   "mimetype": "text/x-python",
   "name": "python",
   "nbconvert_exporter": "python",
   "pygments_lexer": "ipython3",
   "version": "3.13.1"
  }
 },
 "nbformat": 4,
 "nbformat_minor": 5
}
