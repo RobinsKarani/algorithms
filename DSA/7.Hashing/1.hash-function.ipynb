{
 "cells": [
  {
   "cell_type": "code",
   "execution_count": 1,
   "id": "c3279422-cbe4-4a00-bb40-a8f8f3f92e6b",
   "metadata": {},
   "outputs": [
    {
     "name": "stdout",
     "output_type": "stream",
     "text": [
      "97\n",
      "98\n",
      "122\n"
     ]
    }
   ],
   "source": [
    "# Every character in Python has a number(ASCII value),we use ord() to see iit\n",
    "\n",
    "print(ord('a'))  # 97\n",
    "print(ord('b'))  # 98\n",
    "print(ord('z'))  # 122"
   ]
  },
  {
   "cell_type": "code",
   "execution_count": 10,
   "id": "cbfee2c3-5934-4059-8f29-2f69937fee65",
   "metadata": {},
   "outputs": [
    {
     "name": "stdout",
     "output_type": "stream",
     "text": [
      "461\n"
     ]
    }
   ],
   "source": [
    "#SIMPLE HASH FUNCTION THAT ADDS ASCII VALUES OF ALL LETTERS IN A WORD\n",
    "\n",
    "def simpleHash(word):\n",
    "    hashValue = 0\n",
    "    for everychar in word:\n",
    "        hashValue += ord(everychar)\n",
    "    return hashValue    \n",
    "print(simpleHash(\"ROBINS\"))"
   ]
  },
  {
   "cell_type": "code",
   "execution_count": null,
   "id": "4635aba8-6581-409b-99a4-74cbd5335b02",
   "metadata": {},
   "outputs": [],
   "source": []
  }
 ],
 "metadata": {
  "kernelspec": {
   "display_name": "Python 3 (ipykernel)",
   "language": "python",
   "name": "python3"
  },
  "language_info": {
   "codemirror_mode": {
    "name": "ipython",
    "version": 3
   },
   "file_extension": ".py",
   "mimetype": "text/x-python",
   "name": "python",
   "nbconvert_exporter": "python",
   "pygments_lexer": "ipython3",
   "version": "3.13.2"
  }
 },
 "nbformat": 4,
 "nbformat_minor": 5
}
