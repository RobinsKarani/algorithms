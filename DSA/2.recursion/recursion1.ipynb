{
 "cells": [
  {
   "cell_type": "code",
   "execution_count": 1,
   "id": "b8c68809-63a3-4bd6-b581-60f15ea1cf4f",
   "metadata": {},
   "outputs": [
    {
     "name": "stdout",
     "output_type": "stream",
     "text": [
      "🔓 Opening doll #3\n",
      "🔓 Opening doll #2\n",
      "🐣 Base case: Smallest doll opened!\n",
      "🔙 Closing doll #2\n",
      "🔙 Closing doll #3\n"
     ]
    }
   ],
   "source": [
    "def openRussianDoll(doll):\n",
    "    if doll == 1:\n",
    "        print(\"🐣 Base case: Smallest doll opened!\")  # Base case\n",
    "    else:\n",
    "        print(f\"🔓 Opening doll #{doll}\")  # Action before recursion\n",
    "        openRussianDoll(doll - 1)  # Recursive call (smaller problem)\n",
    "        print(f\"🔙 Closing doll #{doll}\")  # Action after recursion\n",
    "\n",
    "openRussianDoll(3)"
   ]
  },
  {
   "cell_type": "code",
   "execution_count": null,
   "id": "54897859-7c00-459c-b3be-7f98fd424230",
   "metadata": {},
   "outputs": [],
   "source": [
    "def recursiveMethod(n):\n",
    "    if n<1:\n",
    "        print(\"n is less than 1\")\n",
    "    else:\n",
    "        recursiveMethod(n-1)\n",
    "        print(n)"
   ]
  },
  {
   "cell_type": "code",
   "execution_count": 5,
   "id": "d3ddcb5d-3471-467c-a9c0-4f3110f9866c",
   "metadata": {},
   "outputs": [
    {
     "name": "stdout",
     "output_type": "stream",
     "text": [
      "I am the 5th method\n",
      "I am the 4th method\n",
      "I am the 3rd method\n",
      "I am the 2nd method\n",
      "I am the 1st method\n"
     ]
    }
   ],
   "source": [
    "def firstMethod():\n",
    "    secondMethod()\n",
    "    print(\"I am the 1st method\")\n",
    "def secondMethod():\n",
    "    thirdMethod()\n",
    "    print(\"I am the 2nd method\")\n",
    "def thirdMethod():\n",
    "    fourthMethod()\n",
    "    print(\"I am the 3rd method\")\n",
    "def fourthMethod():\n",
    "    fifthMethod()\n",
    "    print(\"I am the 4th method\")\n",
    "def fifthMethod():\n",
    "    print(\"I am the 5th method\")\n",
    "\n",
    "firstMethod()\n"
   ]
  },
  {
   "cell_type": "code",
   "execution_count": 7,
   "id": "f69bfef2-3af8-4457-930c-685cdeb470c8",
   "metadata": {},
   "outputs": [
    {
     "name": "stdout",
     "output_type": "stream",
     "text": [
      "n is less than 1\n",
      "1\n",
      "2\n",
      "3\n",
      "4\n"
     ]
    }
   ],
   "source": [
    "def recursiveMethod(n):\n",
    "    if n<1:\n",
    "        print(\"n is less than 1\")\n",
    "    else:\n",
    "        recursiveMethod(n-1)\n",
    "        print(n)\n",
    "recursiveMethod(4)\n",
    "        "
   ]
  },
  {
   "cell_type": "code",
   "execution_count": 14,
   "id": "8c8b5cf5-115a-4a1c-abba-e34e38f12d46",
   "metadata": {},
   "outputs": [
    {
     "name": "stdout",
     "output_type": "stream",
     "text": [
      "120\n"
     ]
    }
   ],
   "source": [
    "#factorial\n",
    "def factorial(n):\n",
    "    assert n >= 0 and isinstance(n, int), \"The number must be a non-negative integer\"\n",
    "    \n",
    "    if n == 0 or n == 1:  # Base case\n",
    "        return 1\n",
    "    else:\n",
    "        return n * factorial(n - 1)  # Recursive case\n",
    "\n",
    "print(factorial(5))\n"
   ]
  },
  {
   "cell_type": "code",
   "execution_count": 15,
   "id": "d6cf92d1-985d-4533-b824-401956c96b37",
   "metadata": {},
   "outputs": [
    {
     "name": "stdout",
     "output_type": "stream",
     "text": [
      "8\n"
     ]
    }
   ],
   "source": [
    "#fibnacci\n",
    "def fibonacci(n):\n",
    "    assert n >= 0 and isinstance(n, int), \"The number must be a non-negative integer\"\n",
    "    \n",
    "    if n in [1,0]:  # Base case\n",
    "        return n\n",
    "    else:\n",
    "        return fibonacci(n - 1) + fibonacci(n - 2)  # Recursive case\n",
    "\n",
    "print(fibonacci(6))  # Output: 8\n"
   ]
  },
  {
   "cell_type": "code",
   "execution_count": null,
   "id": "cf6f49e5-b79f-473b-86b6-0bf749b6f8d1",
   "metadata": {},
   "outputs": [],
   "source": []
  }
 ],
 "metadata": {
  "kernelspec": {
   "display_name": "Python 3 (ipykernel)",
   "language": "python",
   "name": "python3"
  },
  "language_info": {
   "codemirror_mode": {
    "name": "ipython",
    "version": 3
   },
   "file_extension": ".py",
   "mimetype": "text/x-python",
   "name": "python",
   "nbconvert_exporter": "python",
   "pygments_lexer": "ipython3",
   "version": "3.13.1"
  }
 },
 "nbformat": 4,
 "nbformat_minor": 5
}
