{
 "cells": [
  {
   "cell_type": "code",
   "execution_count": null,
   "id": "4c7632eb-2c18-406e-abcd-5c44f4afc288",
   "metadata": {},
   "outputs": [],
   "source": [
    "# Given a sorted array arr and a number target, check if there are two numbers that add up to target."
   ]
  },
  {
   "cell_type": "code",
   "execution_count": 2,
   "id": "e0d69ba0-4fd2-4538-a14f-4f0b59173998",
   "metadata": {},
   "outputs": [
    {
     "name": "stdout",
     "output_type": "stream",
     "text": [
      "True\n"
     ]
    }
   ],
   "source": [
    "arr1 = [1,2,3,4,5]\n",
    "def has_pair(arr, target):\n",
    "    left = 0\n",
    "    right = len(arr) - 1\n",
    "\n",
    "    while left < right:\n",
    "        total = arr[left] + arr[right]\n",
    "        if total == target:\n",
    "            return True\n",
    "        elif total < target:\n",
    "            left += 1\n",
    "        else:\n",
    "            right -= 1\n",
    "    return False\n",
    "print(has_pair(arr1,6))"
   ]
  },
  {
   "cell_type": "code",
   "execution_count": null,
   "id": "45368a14-cfc7-48b2-b377-ff62f964614b",
   "metadata": {},
   "outputs": [],
   "source": []
  }
 ],
 "metadata": {
  "kernelspec": {
   "display_name": "Python 3 (ipykernel)",
   "language": "python",
   "name": "python3"
  },
  "language_info": {
   "codemirror_mode": {
    "name": "ipython",
    "version": 3
   },
   "file_extension": ".py",
   "mimetype": "text/x-python",
   "name": "python",
   "nbconvert_exporter": "python",
   "pygments_lexer": "ipython3",
   "version": "3.13.2"
  }
 },
 "nbformat": 4,
 "nbformat_minor": 5
}
