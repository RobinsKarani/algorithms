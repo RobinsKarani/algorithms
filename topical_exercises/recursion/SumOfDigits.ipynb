{
 "cells": [
  {
   "cell_type": "code",
   "execution_count": null,
   "id": "8bbc7db4-0d4c-4bce-8c17-41837aa175f3",
   "metadata": {},
   "outputs": [],
   "source": [
    "## How to find the sum of digits of a positive integer number using recursion?"
   ]
  },
  {
   "cell_type": "markdown",
   "id": "eeeb0ebc-40e9-4107-8c32-4ce6d6367272",
   "metadata": {},
   "source": [
    " ### 1.Find Recursive case"
   ]
  },
  {
   "cell_type": "markdown",
   "id": "e190a66e-d7d1-4897-b5d8-94ddefd4525b",
   "metadata": {},
   "source": [
    " #### find the sum of digits of 10\n",
    " #### 1+0 =1\n",
    " #### we will divide 10 by 10 we'll get 1 and as remainder"
   ]
  },
  {
   "cell_type": "code",
   "execution_count": 3,
   "id": "8beb2850-0b6a-4a87-a1df-171eabe25e0e",
   "metadata": {},
   "outputs": [
    {
     "data": {
      "text/plain": [
       "1.0"
      ]
     },
     "execution_count": 3,
     "metadata": {},
     "output_type": "execute_result"
    }
   ],
   "source": [
    "number = 10\n",
    "sum = number % 10 + number/10\n",
    "sum"
   ]
  },
  {
   "cell_type": "code",
   "execution_count": 6,
   "id": "2725e18e-1519-48fe-bdb7-5bfbb9917e92",
   "metadata": {},
   "outputs": [
    {
     "name": "stdout",
     "output_type": "stream",
     "text": [
      "9\n"
     ]
    }
   ],
   "source": [
    "num2 = 54\n",
    "sum_digits = num2 // 10 + num2 % 10  # Use integer division //\n",
    "print(sum_digits)\n"
   ]
  },
  {
   "cell_type": "code",
   "execution_count": null,
   "id": "b031e1c2-51ae-43d4-bc5a-7cc74a072f5a",
   "metadata": {},
   "outputs": [],
   "source": [
    "# what of 3 digit+ Number"
   ]
  },
  {
   "cell_type": "markdown",
   "id": "094ef865-3bbe-4332-aafa-91cae3739d59",
   "metadata": {},
   "source": [
    "### 112\n",
    "#### Divide 112 by 10 to get  11 rem 2 then add 2 to remainder of 11/10 and it's result ie.\n",
    "#### f(n) = n%10 + f(n/10)"
   ]
  },
  {
   "cell_type": "code",
   "execution_count": 29,
   "id": "9bd3923a-2b38-49a5-9703-cfeaf3289c97",
   "metadata": {},
   "outputs": [
    {
     "data": {
      "text/plain": [
       "45"
      ]
     },
     "execution_count": 29,
     "metadata": {},
     "output_type": "execute_result"
    }
   ],
   "source": [
    "# using recursion\n",
    "def recursivesumOfDigits(n):\n",
    "\n",
    "    if n < 0 or int(n) != n:\n",
    "        return \"Error: Number should be a positive integer only!\"\n",
    "    if n == 0:\n",
    "        return 0\n",
    "    return (n % 10) + sumOfDigits(n // 10)\n",
    "    \n",
    "recursivesumOfDigits(123456789)      "
   ]
  },
  {
   "cell_type": "code",
   "execution_count": 34,
   "id": "f1135ae1-e522-4d50-92c0-09c6abe78c51",
   "metadata": {},
   "outputs": [
    {
     "name": "stdout",
     "output_type": "stream",
     "text": [
      "45\n",
      "Error: Number should be a positive integer only!\n"
     ]
    }
   ],
   "source": [
    "#Using while loop\n",
    "def sumOfDigitsUsingWhile(n):\n",
    "    if n < 0 or int(n) != n:\n",
    "        return \"Error: Number should be a positive integer only!\"\n",
    "    \n",
    "    sum_digits = 0\n",
    "    while n > 0:\n",
    "        sum_digits += n % 10\n",
    "        n = n // 10  # Integer division\n",
    "    return sum_digits\n",
    "    \n",
    "# Test cases\n",
    "print(sumOfDigitsUsingWhile(123456789))\n",
    "print(sumOfDigitsUsingWhile(-123456789))  \n"
   ]
  },
  {
   "cell_type": "code",
   "execution_count": null,
   "id": "4ca68ac8-7f00-4fe2-a6c5-1a00f9850818",
   "metadata": {},
   "outputs": [],
   "source": []
  }
 ],
 "metadata": {
  "kernelspec": {
   "display_name": "Python 3 (ipykernel)",
   "language": "python",
   "name": "python3"
  },
  "language_info": {
   "codemirror_mode": {
    "name": "ipython",
    "version": 3
   },
   "file_extension": ".py",
   "mimetype": "text/x-python",
   "name": "python",
   "nbconvert_exporter": "python",
   "pygments_lexer": "ipython3",
   "version": "3.13.1"
  }
 },
 "nbformat": 4,
 "nbformat_minor": 5
}
