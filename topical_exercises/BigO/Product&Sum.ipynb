{
 "cells": [
  {
   "cell_type": "markdown",
   "id": "de7d01bf-791d-4ee5-9eef-224e090b8946",
   "metadata": {
    "editable": true,
    "slideshow": {
     "slide_type": ""
    },
    "tags": []
   },
   "source": [
    "### What is the runtime(Time complexity) of the code below?\n",
    "```python\n",
    "def foo(array):\n",
    "    sum = 1\n",
    "    product = 1\n",
    "\n",
    "    for i in array:\n",
    "        sum += 1\n",
    "    \n",
    "    for i in array:\n",
    "        product *= i\n",
    "    \n",
    "    print(\"Sum = \" + str(sum) + \", Product = \" + str(product))\n",
    "```\n",
    "    "
   ]
  },
  {
   "cell_type": "markdown",
   "id": "bc745fae-69db-46c3-aa0e-52d32ad52f3c",
   "metadata": {},
   "source": [
    "#### solution\n",
    "```python\n",
    "def foo(array):\n",
    "    sum = 1 #O(1)\n",
    "    product = 1b #O(1)\n",
    "\n",
    "    for i in array: #O(n)\n",
    "        sum += 1 #O(1)\n",
    "    \n",
    "    for i in array: #O(n)\n",
    "        product *= i #O(1)\n",
    "    \n",
    "    print(\"Sum = \" + str(sum) + \", Product = \" + str(product)) #O(1)\n",
    "```\n",
    "   <p> Time Complexity = O(n) </p>"
   ]
  },
  {
   "cell_type": "code",
   "execution_count": null,
   "id": "73424253-cb5d-4424-b8b1-fef9c013eb62",
   "metadata": {},
   "outputs": [],
   "source": []
  }
 ],
 "metadata": {
  "kernelspec": {
   "display_name": "Python 3 (ipykernel)",
   "language": "python",
   "name": "python3"
  },
  "language_info": {
   "codemirror_mode": {
    "name": "ipython",
    "version": 3
   },
   "file_extension": ".py",
   "mimetype": "text/x-python",
   "name": "python",
   "nbconvert_exporter": "python",
   "pygments_lexer": "ipython3",
   "version": "3.13.1"
  }
 },
 "nbformat": 4,
 "nbformat_minor": 5
}
