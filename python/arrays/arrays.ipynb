{
 "cells": [
  {
   "cell_type": "code",
   "execution_count": 4,
   "id": "dd486c3b-1dc3-422d-8113-7d8d17b741eb",
   "metadata": {},
   "outputs": [],
   "source": [
    "from array import *"
   ]
  },
  {
   "cell_type": "markdown",
   "id": "f2bdd778-8de8-4695-b08d-9cb5a2fe26b3",
   "metadata": {},
   "source": [
    "# **Features of Arrays in Data Structures and Algorithms**\n",
    "\n",
    "## **1. Fixed Size**\n",
    "- The size of an array is determined at the time of declaration and cannot be changed dynamically in static arrays.\n",
    "- Some languages like Python (lists) and JavaScript (arrays) allow dynamic resizing.\n",
    "\n",
    "## **2. Random Access**\n",
    "- Elements can be accessed directly using an index in **O(1)** time.\n",
    "- Example: `arr[i]` gives the `i`-th element instantly.\n",
    "\n",
    "## **3. Efficient Traversal**\n",
    "- Arrays allow fast traversal using loops like `for` and `while`.\n",
    "- Example (Python):  \n",
    "  ```python\n",
    "  for i in range(n):\n",
    "      print(arr[i])\n"
   ]
  },
  {
   "cell_type": "markdown",
   "id": "e59a0c25-9a80-45d2-99ff-2cb26abcb324",
   "metadata": {},
   "source": [
    "| Type code | C Type                 | Python Type        | Minimum size in bytes | Notes |\n",
    "|-----------|------------------------|--------------------|------------------------|-------|\n",
    "| 'b'       | signed char            | int                | 1                      |       |\n",
    "| 'B'       | unsigned char          | int                | 1                      |       |\n",
    "| 'u'       | wchar_t                | Unicode character  | 2                      | (1)   |\n",
    "| 'w'       | Py_UCS4                | Unicode character  | 4                      |       |\n",
    "| 'h'       | signed short           | int                | 2                      |       |\n",
    "| 'H'       | unsigned short         | int                | 2                      |       |\n",
    "| 'i'       | signed int             | int                | 2                      |       |\n",
    "| 'I'       | unsigned int           | int                | 2                      |       |\n",
    "| 'l'       | signed long            | int                | 4                      |       |\n",
    "| 'L'       | unsigned long          | int                | 4                      |       |\n",
    "| 'q'       | signed long long       | int                | 8                      |       |\n",
    "| 'Q'       | unsigned long long     | int                | 8                      |       |\n",
    "| 'f'       | float                  | float              | 4                      |       |\n",
    "| 'd'       | double                 | float              | 8                      |       |\n"
   ]
  },
  {
   "cell_type": "code",
   "execution_count": null,
   "id": "69f413a4-23ee-432b-97b5-bd5782effb3f",
   "metadata": {},
   "outputs": [],
   "source": []
  },
  {
   "cell_type": "markdown",
   "id": "5f52b111-7500-45a0-8d62-4f2a386567c7",
   "metadata": {},
   "source": [
    "from array import array\n",
    "\n",
    "# Define an integer array (typecode 'i' means signed integer)\n",
    "array1 = array('i', [1, 2, 3, 4, 5])\n",
    "\n",
    "print(array1)\n",
    "print(\"Array elements:\", list(array1))  # Converts to list for cleaner output\n",
    "\n",
    "# Alternative way to print elements one by one\n",
    "for num in array1:\n",
    "    print(num, end=\" \")  # Prints: 1 2 3 4 5\n"
   ]
  },
  {
   "cell_type": "code",
   "execution_count": 8,
   "id": "5e3f703a-d4e9-4654-90db-67365312ab82",
   "metadata": {},
   "outputs": [
    {
     "name": "stdout",
     "output_type": "stream",
     "text": [
      "array('i', [1, 2, 3, 4, 5, 6, 7])\n",
      "array('i', [0, 1, 2, 3, 4, 5, 6, 7])\n",
      "array('i', [0, 1, 2, 44, 3, 4, 5, 6, 7])\n"
     ]
    }
   ],
   "source": [
    "#Insertion\n",
    "arr1 = array('i',[1,2,3,4,5,6])\n",
    "arr2 = array('d',[1.1,1.2,1.3])\n",
    "\n",
    "#arrayname.insert(index,element)\n",
    "arr1.insert(6,7) #O(1)\n",
    "print(arr1)\n",
    "\n",
    "arr1.insert(0,0) #O(n)\n",
    "print(arr1)\n",
    "\n",
    "#insert element 44 in index [3]/,4th elemnt\n",
    "arr1.insert(3,44) #O(n)\n",
    "print(arr1)"
   ]
  },
  {
   "cell_type": "code",
   "execution_count": 15,
   "id": "9e19c9de-8733-41e8-a116-5ae92b344edd",
   "metadata": {},
   "outputs": [
    {
     "name": "stdout",
     "output_type": "stream",
     "text": [
      "array('i', [1, 2, 3, 4, 5, 6])\n",
      "1\n",
      "2\n",
      "3\n",
      "4\n",
      "5\n",
      "6\n"
     ]
    }
   ],
   "source": [
    "#Traversal operation\n",
    "def traverseArray(array):\n",
    "    print(arr3)\n",
    "\n",
    "    for element in array:\n",
    "        print(element)\n",
    "        #print( element,end = \" \")\n",
    "        \n",
    "arr3 = array('i',[1,2,3,4,5,6])        \n",
    "traverseArray(arr3)\n",
    "\n",
    "#Tcomplexity = O(n) ~loop\n",
    "#Scomplexity= O(1) coz we don need extra space to perform the operation\n"
   ]
  },
  {
   "cell_type": "code",
   "execution_count": 16,
   "id": "6dca2ccb-388e-4c1a-8404-e2f0263b2ae2",
   "metadata": {},
   "outputs": [
    {
     "name": "stdout",
     "output_type": "stream",
     "text": [
      "6\n"
     ]
    }
   ],
   "source": [
    "#Access element\n",
    "arr4 = array('i',[1,2,3,4,5,6]) \n",
    "def accessElement(array,index):\n",
    "    if index >= len(array):\n",
    "        print(\"There's no element in the index you're trying to access\")\n",
    "    else:\n",
    "        print(array[index])\n",
    "accessElement(arr4,5)        "
   ]
  },
  {
   "cell_type": "code",
   "execution_count": 24,
   "id": "1f3d6a21-cd64-4226-9b73-ceae97f10ddb",
   "metadata": {},
   "outputs": [
    {
     "name": "stdout",
     "output_type": "stream",
     "text": [
      "3\n",
      "4\n",
      "The element 9 does not exist in this array\n"
     ]
    }
   ],
   "source": [
    "arr4 = array('i',[1,2,3,4,5,6])\n",
    "\n",
    "def searchArray(array,value):\n",
    "    for element in array:\n",
    "        if element == value:\n",
    "            return array.index(value)\n",
    "    return f\"The element {value} does not exist in this array\"   \n",
    "locationOfFour = searchArray(arr4,4)\n",
    "locationOfFive = searchArray(arr4,5)\n",
    "locationOfNine = searchArray(arr4,9)\n",
    "\n",
    "print(locationOfFour)\n",
    "print(locationOfFive)\n",
    "print(locationOfNine)\n"
   ]
  },
  {
   "cell_type": "markdown",
   "id": "3daf42d7-bc93-4f24-aaa7-7a78a72dd711",
   "metadata": {},
   "source": [
    "### **1D Array Practice**"
   ]
  },
  {
   "cell_type": "code",
   "execution_count": 5,
   "id": "6139c46f-8dea-40b3-850d-ff9603698773",
   "metadata": {},
   "outputs": [
    {
     "name": "stdout",
     "output_type": "stream",
     "text": [
      "1\n",
      "2\n",
      "3\n",
      "4\n",
      "5\n"
     ]
    }
   ],
   "source": [
    "#Create an array and traverse\n",
    "my_array = array(\"i\",[1,2,3,4,5])\n",
    "for i in my_array:\n",
    "    print(i)\n",
    "    \n",
    "    \n"
   ]
  },
  {
   "cell_type": "code",
   "execution_count": 6,
   "id": "f6eb8b42-2867-4fad-8f78-596c2f601696",
   "metadata": {},
   "outputs": [
    {
     "name": "stdout",
     "output_type": "stream",
     "text": [
      "4\n"
     ]
    }
   ],
   "source": [
    "#Access individiual elements through indexes\n",
    "print(my_array[3])"
   ]
  },
  {
   "cell_type": "code",
   "execution_count": 7,
   "id": "c6db9e30-4ea9-45c1-9767-7df9afbd840f",
   "metadata": {},
   "outputs": [
    {
     "name": "stdout",
     "output_type": "stream",
     "text": [
      "array('i', [1, 2, 3, 4, 5, 6])\n"
     ]
    }
   ],
   "source": [
    "#Append any value to the array using append() method\n",
    "my_array.append(6)\n",
    "print(my_array)"
   ]
  },
  {
   "cell_type": "code",
   "execution_count": 10,
   "id": "d13a7c9a-2ee0-4345-92bb-286acf7f68d3",
   "metadata": {},
   "outputs": [
    {
     "name": "stdout",
     "output_type": "stream",
     "text": [
      "array('i', [11, 11, 11, 1, 2, 3, 4, 5, 6])\n"
     ]
    }
   ],
   "source": [
    "#Insert value in the array using insert() method\n",
    "my_array.insert(0,11)\n",
    "print(my_array)\n",
    "#I run this code 3 times"
   ]
  },
  {
   "cell_type": "code",
   "execution_count": 12,
   "id": "7859d047-e478-4110-a3dd-2d3dbb9b6439",
   "metadata": {},
   "outputs": [
    {
     "name": "stdout",
     "output_type": "stream",
     "text": [
      "array('i', [11, 11, 11, 1, 2, 3, 4, 5, 6, 7, 8, 9])\n"
     ]
    }
   ],
   "source": [
    "#Extend python array using extend() method\n",
    "my_array1 = array('i',[7,8,9])\n",
    "my_array.extend(my_array1)\n",
    "print(my_array)"
   ]
  },
  {
   "cell_type": "code",
   "execution_count": 16,
   "id": "89e916b1-c2e6-4b3c-a46e-2db7699a7922",
   "metadata": {},
   "outputs": [
    {
     "name": "stdout",
     "output_type": "stream",
     "text": [
      "array('i', [11, 11, 11, 1, 2, 3, 4, 5, 6, 7, 8, 9, 10, 11, 12])\n"
     ]
    }
   ],
   "source": [
    "#add items from list into array using fromlist() method\n",
    "my_array.fromlist(templist)\n",
    "\n",
    "# Print the updated array\n",
    "print(my_array)"
   ]
  },
  {
   "cell_type": "code",
   "execution_count": 17,
   "id": "cef0176b-c13d-4a69-a3cd-86c4a51f630d",
   "metadata": {},
   "outputs": [
    {
     "name": "stdout",
     "output_type": "stream",
     "text": [
      "array('i', [11, 11, 1, 2, 3, 4, 5, 6, 7, 8, 9, 10, 11, 12])\n"
     ]
    }
   ],
   "source": [
    "#remove an element using remove()\n",
    "my_array.remove(11)\n",
    "print(my_array)\n",
    "\n",
    " "
   ]
  },
  {
   "cell_type": "code",
   "execution_count": 19,
   "id": "c40f9c86-9d91-4569-a5aa-93969fa10dcc",
   "metadata": {},
   "outputs": [
    {
     "name": "stdout",
     "output_type": "stream",
     "text": [
      "array('i', [11, 11, 1, 2, 3, 4, 5, 6, 7, 8, 9, 10, 11])\n"
     ]
    }
   ],
   "source": [
    "#Remove last array element using \n",
    "my_array.pop()\n",
    "print(my_array)\n"
   ]
  },
  {
   "cell_type": "code",
   "execution_count": 24,
   "id": "8afa901c-86d7-4c0f-bc01-a10653a626c2",
   "metadata": {},
   "outputs": [
    {
     "name": "stdout",
     "output_type": "stream",
     "text": [
      "0\n"
     ]
    }
   ],
   "source": [
    "#Fetch any element through it's index using index() method\n",
    "print(my_array.index(11))\n"
   ]
  },
  {
   "cell_type": "code",
   "execution_count": 28,
   "id": "c6301b28-dcf4-4371-ab73-70e591cb5574",
   "metadata": {},
   "outputs": [
    {
     "name": "stdout",
     "output_type": "stream",
     "text": [
      "array('i', [11, 10, 9, 8, 7, 6, 5, 4, 3, 2, 1, 11, 11])\n"
     ]
    }
   ],
   "source": [
    "#reverse python array using reverse() method\n",
    "my_array.reverse()\n",
    "print(my_array)"
   ]
  },
  {
   "cell_type": "code",
   "execution_count": 29,
   "id": "e62fb759-bc48-4a68-a40a-38860ff12275",
   "metadata": {},
   "outputs": [
    {
     "name": "stdout",
     "output_type": "stream",
     "text": [
      "(1751426897184, 13)\n"
     ]
    }
   ],
   "source": [
    "#get buffer info thro buffer_info() method\n",
    "#Tells u array buffer status in the memory and number of elements in the array\n",
    "print(my_array.buffer_info())"
   ]
  },
  {
   "cell_type": "code",
   "execution_count": 30,
   "id": "c41ccad7-9df3-4a7c-96d0-bd47a522617b",
   "metadata": {},
   "outputs": [
    {
     "name": "stdout",
     "output_type": "stream",
     "text": [
      "3\n"
     ]
    }
   ],
   "source": [
    "#check number of occurence of a certain element using count() method\n",
    "print(my_array.count(11))"
   ]
  },
  {
   "cell_type": "code",
   "execution_count": 34,
   "id": "041d01c8-fb5b-4af7-85ab-953f987ea19b",
   "metadata": {},
   "outputs": [
    {
     "ename": "AttributeError",
     "evalue": "'array.array' object has no attribute 'tostring'",
     "output_type": "error",
     "traceback": [
      "\u001b[1;31m---------------------------------------------------------------------------\u001b[0m",
      "\u001b[1;31mAttributeError\u001b[0m                            Traceback (most recent call last)",
      "Cell \u001b[1;32mIn[34], line 2\u001b[0m\n\u001b[0;32m      1\u001b[0m \u001b[38;5;66;03m#Converting array toString using toString method\u001b[39;00m\n\u001b[1;32m----> 2\u001b[0m byte_string \u001b[38;5;241m=\u001b[39m \u001b[43mmy_array\u001b[49m\u001b[38;5;241;43m.\u001b[39;49m\u001b[43mtostring\u001b[49m()\n\u001b[0;32m      3\u001b[0m \u001b[38;5;28mprint\u001b[39m(byte_string)\n",
      "\u001b[1;31mAttributeError\u001b[0m: 'array.array' object has no attribute 'tostring'"
     ]
    }
   ],
   "source": [
    "#Converting array toString using toString method\n",
    "byte_string = my_array.tostring()\n",
    "print(byte_string)"
   ]
  },
  {
   "cell_type": "code",
   "execution_count": null,
   "id": "664ebb12-a095-4b54-8838-5600ad8383b9",
   "metadata": {},
   "outputs": [],
   "source": []
  }
 ],
 "metadata": {
  "kernelspec": {
   "display_name": "Python 3 (ipykernel)",
   "language": "python",
   "name": "python3"
  },
  "language_info": {
   "codemirror_mode": {
    "name": "ipython",
    "version": 3
   },
   "file_extension": ".py",
   "mimetype": "text/x-python",
   "name": "python",
   "nbconvert_exporter": "python",
   "pygments_lexer": "ipython3",
   "version": "3.13.1"
  }
 },
 "nbformat": 4,
 "nbformat_minor": 5
}
